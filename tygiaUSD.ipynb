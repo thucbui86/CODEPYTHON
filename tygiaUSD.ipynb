{
 "cells": [
  {
   "cell_type": "code",
   "execution_count": 2,
   "id": "379b5508",
   "metadata": {},
   "outputs": [
    {
     "name": "stdout",
     "output_type": "stream",
     "text": [
      "please input USD:100\n",
      "please input exchange rate:23000\n",
      "VND: 2300000\n"
     ]
    }
   ],
   "source": [
    "usd = int(input(\"please input USD:\"))\n",
    "exRate = int(input(\"please input exchange rate:\"))\n",
    "vnd = usd*exRate\n",
    "print(\"VND:\",vnd)"
   ]
  }
 ],
 "metadata": {
  "kernelspec": {
   "display_name": "Python 3 (ipykernel)",
   "language": "python",
   "name": "python3"
  },
  "language_info": {
   "codemirror_mode": {
    "name": "ipython",
    "version": 3
   },
   "file_extension": ".py",
   "mimetype": "text/x-python",
   "name": "python",
   "nbconvert_exporter": "python",
   "pygments_lexer": "ipython3",
   "version": "3.10.4"
  }
 },
 "nbformat": 4,
 "nbformat_minor": 5
}
