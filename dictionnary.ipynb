{
 "cells": [
  {
   "cell_type": "code",
   "execution_count": 27,
   "id": "1ac7a749",
   "metadata": {},
   "outputs": [
    {
     "name": "stdout",
     "output_type": "stream",
     "text": [
      "nhập từ cần dịch: erase\n",
      "từ vừa nhập không tồn tại trong từ điển\n"
     ]
    }
   ],
   "source": [
    "# [Bài tập] Từ điển (Python)\n",
    "\n",
    "my_dict = {'pen': 'bút bi', 'mouse': 'con chuột',\n",
    "           'key board': 'bàn phím', 'window': 'cửa sổ', \n",
    "           'house': 'ngôi nhà', 'fan': 'cái quạt'}\n",
    "\n",
    "def dichAnhViet(word):\n",
    "    for k in my_dict:\n",
    "        if k == word:\n",
    "            return my_dict[k]\n",
    "    \n",
    "input_word = input(\"nhập từ cần dịch: \")\n",
    "\n",
    "def display_result(input_word):\n",
    "    if input_word in my_dict:\n",
    "        print(input_word, \":\", dichAnhViet(input_word))\n",
    "    else:\n",
    "        print(\"từ vừa nhập không tồn tại trong từ điển\")\n",
    "        \n",
    "display_result(input_word)"
   ]
  },
  {
   "cell_type": "code",
   "execution_count": 31,
   "id": "0426c28e",
   "metadata": {},
   "outputs": [
    {
     "name": "stdout",
     "output_type": "stream",
     "text": [
      "{'a': 3, 'anh': 5, 'tràng': 8, 'đã': 3, 'về': 2, 'chúng': 2, 'mày': 1, 'ơi': 3, 'bế': 2, 'em': 1, 'mấy': 1, 'uống': 1, 'rượu': 1, 'chưa': 1, 'ơiđứa': 1, 'túm': 2, 'đằng': 3, 'trước': 2, 'đứa': 5, 'sau': 1, 'cù': 1, 'kéo': 1, 'lôi': 1, 'chân': 1, 'không': 6, 'cho': 1, 'đi': 4, 'chỉ': 1, 'ngửa': 1, 'mặt': 1, 'lên': 4, 'cười': 1, 'hềnh': 1, 'hệchcái': 1, 'xóm': 2, 'ngụ': 1, 'cư': 1, 'tồi': 1, 'tàn': 1, 'ấy': 1, 'mỗi': 1, 'chiều': 2, 'lại': 1, 'xôn': 1, 'xao': 1, 'được': 1, 'một': 3, 'lúcnhưng': 1, 'độ': 1, 'này': 2, 'thì': 1, 'trẻ': 1, 'con': 1, 'nào': 3, 'buồn': 2, 'ra': 1, 'đón': 1, 'nữa': 1, 'nó': 1, 'ngồi': 1, 'ủ': 1, 'rũ': 1, 'dưới': 1, 'những': 5, 'xó': 1, 'đường': 2, 'nhúc': 1, 'nhích': 1, 'trong': 3, 'bóng': 2, 'nhá': 1, 'nhem': 1, 'từng': 1, 'bước': 1, 'mệt': 1, 'mỏi': 1, 'chiếc': 1, 'áo': 1, 'nâu': 1, 'tàng': 1, 'vắt': 1, 'sang': 1, 'bên': 2, 'cánh': 1, 'tay': 1, 'cái': 3, 'đầu': 1, 'trọc': 1, 'nhẵn': 1, 'chúi': 1, 'hình': 1, 'như': 4, 'lo': 1, 'lắng': 1, 'chật': 1, 'vật': 1, 'ngày': 1, 'đè': 1, 'xuống': 1, 'lưng': 2, 'to': 1, 'rộng': 1, 'gấu': 1, 'của': 3, 'hắncái': 1, 'đói': 1, 'tràn': 1, 'đến': 1, 'tự': 1, 'lúc': 1, 'gia': 1, 'đình': 1, 'từ': 1, 'vùng': 1, 'nam': 1, 'định': 1, 'thái': 1, 'bình': 1, 'đội': 1, 'chiếu': 1, 'lũ': 1, 'lượt': 1, 'bồng': 1, 'dắt': 1, 'díu': 1, 'nhau': 1, 'xanh': 1, 'xám': 1, 'ma': 1, 'và': 2, 'nằm': 2, 'ngổn': 1, 'ngang': 1, 'khắp': 1, 'lều': 1, 'chợ': 2, 'người': 3, 'chết': 1, 'ngả': 1, 'rạ': 1, 'buổi': 1, 'sáng': 1, 'làng': 1, 'làm': 1, 'đồng': 1, 'gặp': 1, 'ba': 1, 'bốn': 1, 'thây': 1, 'còng': 1, 'queo': 1, 'khí': 1, 'vẩn': 1, 'mùi': 2, 'ẩm': 1, 'thối': 1, 'rác': 1, 'rưởi': 1, 'gây': 1, 'xác': 1}\n"
     ]
    }
   ],
   "source": [
    "######[Bài tập] Count number of occurrence of words in a given text.\n",
    "\n",
    "def demtu(input_string):\n",
    "    \n",
    "    num_words = {}\n",
    "    \n",
    "    input_string = input_string.replace(\"!\", \"\")\n",
    "    input_string = input_string.replace(\".\", \"\")\n",
    "    input_string = input_string.replace(\",\", \"\")\n",
    "    input_string = input_string.replace(\"-\", \"\")\n",
    "    input_string = input_string.replace(\"?\", \"\")\n",
    "    \n",
    "    text_list = input_string.split()\n",
    "    \n",
    "    for word in text_list:\n",
    "        word = word.lower()\n",
    "        if word not in num_words:\n",
    "            num_words[word] = 1\n",
    "        else:\n",
    "            num_words[word] += 1\n",
    "    print(num_words)\n",
    "\n",
    "massage = \"- A a a... Anh Tràng! Anh Tràng đã về chúng mày ơi!- Anh Tràng ơi bế em mấy...- Anh Tràng ơi đã uống rượu chưa?- Anh Tràng ơi!...Đứa túm đằng trước, đứa túm đằng sau, đứa cù, đứa kéo, đứa lôi chân không cho đi. Tràng chỉ ngửa mặt lên cười hềnh hệch.Cái xóm ngụ cư tồi tàn ấy mỗi chiều lại xôn xao lên được một lúc.Nhưng độ này thì trẻ con không đứa nào buồn ra đón Tràng nữa, chúng nó ngồi ủ rũ dưới những xó đường không buồn nhúc nhích. Trong bóng chiều nhá nhem, Tràng đi từng bước mệt mỏi, chiếc áo nâu tàng vắt sang một bên cánh tay, cái đầu trọc nhẵn chúi về đằng trước. Hình như những lo lắng, chật vật trong một ngày đè xuống cái lưng to rộng như lưng gấu của hắn.Cái đói đã tràn đến xóm này tự lúc nào. Những gia đình từ những vùng Nam Định, Thái Bình, đội chiếu lũ lượt bồng bế, dắt díu nhau lên xanh xám như những bóng ma, và nằm ngổn ngang khắp lều chợ. Người chết như ngả rạ. Không buổi sáng nào người trong làng đi chợ, đi làm đồng không gặp ba bốn cái thây nằm còng queo bên đường. Không khí vẩn lên mùi ẩm thối của rác rưởi và mùi gây của xác người.\"\n",
    "\n",
    "demtu(massage)"
   ]
  },
  {
   "cell_type": "code",
   "execution_count": 32,
   "id": "bc23083a",
   "metadata": {},
   "outputs": [
    {
     "name": "stdout",
     "output_type": "stream",
     "text": [
      "********************\n",
      "Mời người dùng nhập:\n",
      "********************\n",
      "H - Hiển thị\n",
      "********************\n",
      "T - Thêm\n",
      "********************\n",
      "S - Sửa\n",
      "********************\n",
      "X - Xóa\n",
      "********************\n",
      "0 - Thoát\n",
      "********************\n",
      "H\n",
      "{'1': 'laptop', '2': 'iphone'}\n",
      "4\n",
      "Đầu vào không hợp lệ\n",
      "0\n",
      "Cảm ơn quý khách đã sử dụng dịch vụ\n"
     ]
    }
   ],
   "source": [
    "# [Bài tập] Ứng dụng quản lý sản phẩm\n",
    "\n",
    "sanpham = {'1': 'laptop', '2': 'iphone'}\n",
    "\n",
    "def hienthi_sp(sanpham):\n",
    "    print(sanpham)\n",
    "\n",
    "def them_sp(sanpham):\n",
    "    key = input(\"Nhập ID:\")\n",
    "    if key in sanpham:\n",
    "        print(\"ID đã tồn tại, nhập lại ID:\")\n",
    "        key = input(\"nhap lai ID:\")\n",
    "    else:\n",
    "        value = input(\"Nhập tên sản phẩmn:\")\n",
    "        sanpham[key] = value\n",
    "        print('Thêm thành công')\n",
    "    return sanpham\n",
    "\n",
    "def sua_sp(sanpham):\n",
    "    key = input('Nhập vào ID:')\n",
    "    if key not in sanpham:\n",
    "        print('ID không tồn tại, nhập lại ID:')\n",
    "        key = input('Nhap lai ID:') \n",
    "    else:\n",
    "        value = input('Nhập vào tên sản phẩm mới:')\n",
    "        sanpham[key] = value\n",
    "        print('Sửa thành công!')\n",
    "    return sanpham\n",
    "\n",
    "def xoa_sp(sanpham):\n",
    "    key = input('Nhập vào ID:')\n",
    "    if key not in sanpham:\n",
    "        print('ID không tồn tại, nhập lại ID')\n",
    "        key = input('Nhap lai ID')\n",
    "    else:\n",
    "        print(\"Bạn chắc là muốn xóa sản phẩm? Y\")\n",
    "        y = input()\n",
    "        if y == 'Y':\n",
    "            del sanpham[key]\n",
    "            print('Xoa thanh cong!')\n",
    "        else:\n",
    "            print('San pham khong bi xoa')\n",
    "    return sanpham\n",
    "\n",
    "def thoat_chuongtrinh():\n",
    "    print(\"Cảm ơn quý khách đã sử dụng dịch vụ\")\n",
    "\n",
    "def Main():\n",
    "    print('*'*20)\n",
    "    print(\"Mời người dùng nhập:\")\n",
    "    print('*'*20)\n",
    "    print(\"H - Hiển thị\")\n",
    "    print('*'*20)\n",
    "    print(\"T - Thêm\")\n",
    "    print('*'*20)\n",
    "    print(\"S - Sửa\")\n",
    "    print('*'*20)\n",
    "    print(\"X - Xóa\")\n",
    "    print('*'*20)\n",
    "    print(\"0 - Thoát\")\n",
    "    print('*'*20)\n",
    "    dangnhap = input()\n",
    "    while True:\n",
    "        if dangnhap == 'H':\n",
    "            hienthi_sp(sanpham)\n",
    "        elif dangnhap == 'T':\n",
    "            them_sp(sanpham)\n",
    "        elif dangnhap == 'S':\n",
    "            sua_sp(sanpham)\n",
    "        elif dangnhap == 'X':\n",
    "            xoa_sp(sanpham)\n",
    "        elif dangnhap == '0':\n",
    "            thoat_chuongtrinh()\n",
    "            break\n",
    "        else: \n",
    "            print(\"Đầu vào không hợp lệ\")\n",
    "        dangnhap = input()\n",
    "        \n",
    "Main()"
   ]
  }
 ],
 "metadata": {
  "kernelspec": {
   "display_name": "Python 3 (ipykernel)",
   "language": "python",
   "name": "python3"
  },
  "language_info": {
   "codemirror_mode": {
    "name": "ipython",
    "version": 3
   },
   "file_extension": ".py",
   "mimetype": "text/x-python",
   "name": "python",
   "nbconvert_exporter": "python",
   "pygments_lexer": "ipython3",
   "version": "3.10.4"
  }
 },
 "nbformat": 4,
 "nbformat_minor": 5
}
