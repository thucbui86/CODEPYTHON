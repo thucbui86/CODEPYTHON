{
 "cells": [
  {
   "cell_type": "code",
   "execution_count": null,
   "id": "e083a43d",
   "metadata": {},
   "outputs": [],
   "source": [
    "# Vẽ hình xoắn ốc \n",
    "  \n",
    "import turtle   \n",
    "t = turtle.Turtle()\n",
    "  \n",
    "a = 100\n",
    "r= 5\n",
    "i = 0  \n",
    "\n",
    "while True:\n",
    "    t.circle(r + i, 45)\n",
    "    if(r + i > a):\n",
    "        break\n",
    "    i += 1\n",
    "turtle.done()"
   ]
  },
  {
   "cell_type": "code",
   "execution_count": null,
   "id": "ffc7f81b",
   "metadata": {},
   "outputs": [],
   "source": [
    "# Vẽ hình elipse\n",
    "\n",
    "import turtle\n",
    "\n",
    "t = turtle.Turtle()\n",
    "\n",
    "r = 100\n",
    "for i in range(2):\n",
    "    t.circle(r, 90)\n",
    "    t.circle(r//2, 90)\n",
    "\n",
    "turtle.done()"
   ]
  },
  {
   "cell_type": "code",
   "execution_count": null,
   "id": "77c9c313",
   "metadata": {},
   "outputs": [],
   "source": [
    "# Vẽ nhiều hình elipse dùng vòng lặp while\n",
    "\n",
    "import turtle\n",
    "import random\n",
    "\n",
    "t = turtle.Turtle()\n",
    "turtle.bgcolor(\"black\")\n",
    "t.speed(0)\n",
    "a = 36\n",
    "k = 0\n",
    "r = 100\n",
    "val = 10\n",
    "L = ['red','yellow','purple','pink','cyan','green','blue']\n",
    "while k <= a:\n",
    "    t.color(random.choice(L))\n",
    "    t.lt(360/a)\n",
    "    for i in range(2):\n",
    "        t.circle(r, 90)\n",
    "        t.circle(r//2, 90)\n",
    "    k += 1     \n",
    "\n",
    "turtle.done()"
   ]
  }
 ],
 "metadata": {
  "kernelspec": {
   "display_name": "Python 3 (ipykernel)",
   "language": "python",
   "name": "python3"
  },
  "language_info": {
   "codemirror_mode": {
    "name": "ipython",
    "version": 3
   },
   "file_extension": ".py",
   "mimetype": "text/x-python",
   "name": "python",
   "nbconvert_exporter": "python",
   "pygments_lexer": "ipython3",
   "version": "3.10.4"
  }
 },
 "nbformat": 4,
 "nbformat_minor": 5
}
