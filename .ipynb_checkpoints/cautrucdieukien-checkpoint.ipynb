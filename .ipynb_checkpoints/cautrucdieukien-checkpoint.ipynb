{
 "cells": [
  {
   "cell_type": "code",
   "execution_count": 4,
   "id": "4a5e6532",
   "metadata": {},
   "outputs": [
    {
     "name": "stdout",
     "output_type": "stream",
     "text": [
      "nhap a:9\n",
      "9:is odd\n"
     ]
    }
   ],
   "source": [
    "# Kiểm tra số nhập vào là số chẳn hoặc lẻ, sử dụng toán tử điều kiện ba ngôi\n",
    "a = int(input(\"nhap a:\"))\n",
    "print(a,\"is even\",sep = \":\") if a%2==0 else print(a,\"is odd\",sep = \":\") "
   ]
  },
  {
   "cell_type": "code",
   "execution_count": 10,
   "id": "73dc315d",
   "metadata": {},
   "outputs": [
    {
     "name": "stdout",
     "output_type": "stream",
     "text": [
      "nhap a:4.8\n",
      "không phải số tự nhiên\n"
     ]
    }
   ],
   "source": [
    "#Viết chương trình có khả năng kiểm tra tính chất chẵn lẻ của một số nhập vào. \n",
    "# In ra màn hình số nhập vào là số chẵn, số lẽ hay không phải là các trường hợp trên.\n",
    "a = float(input(\"nhap a:\"))\n",
    "if a % 2 == 0:\n",
    "    print('số chẵn')\n",
    "elif a % 2 == 1:\n",
    "    print('số lẻ')\n",
    "else:\n",
    "    print('không phải số tự nhiên')"
   ]
  },
  {
   "cell_type": "code",
   "execution_count": 17,
   "id": "174bc513",
   "metadata": {},
   "outputs": [
    {
     "name": "stdout",
     "output_type": "stream",
     "text": [
      "Give me a price: 40\n",
      "Total:  40\n"
     ]
    }
   ],
   "source": [
    "# Viết chương trình hỏi người dùng đã chi bao nhiêu tiền tại cửa hàng.\n",
    "\n",
    "# Nếu họ chi ít hơn 75$, họ sẽ không được giảm giá.\n",
    "\n",
    "# Nếu họ chi 75$ trở lên, họ sẽ được giảm giá 15$.\n",
    "\n",
    "# Nếu người dùng chi từ 100$ trở lên, họ sẽ được giảm giá 25$.\n",
    "\n",
    "# Nếu người dùng chi từ 150$ trở lên, họ sẽ được giảm giá 50$.\n",
    "# Sau đó in ra tổng số tiền mà người dùng phải thanh toán.\n",
    "\n",
    "num = int(input(\"Give me a price: \"))\n",
    "\n",
    "if num >= 150:\n",
    "    print(\"Total: \", num - 50)\n",
    "elif num >= 100:\n",
    "    print(\"Total: \", num - 25)\n",
    "elif num >= 75:\n",
    "    print(\"Total: \", num - 15)\n",
    "else:\n",
    "    print(\"Total: \", num)"
   ]
  },
  {
   "cell_type": "code",
   "execution_count": 19,
   "id": "6566a061",
   "metadata": {},
   "outputs": [
    {
     "name": "stdout",
     "output_type": "stream",
     "text": [
      "nhap chieu cao:1.67\n",
      "nhap can nang:61\n",
      "Bình thường\n"
     ]
    }
   ],
   "source": [
    "# Viết chương trình cho người dùng nhập cân nặng và chiều cao của mình. Sau đó hãy in ra chỉ số BMI (Body mass index), và tình trạng cơ thể của họ dựa theo công thức và bảng giá trị sau:\n",
    "\n",
    "# BMI = cân nặng / (chiều cao ^ 2)\n",
    "\n",
    "# Trong đó cân nặng tính bằng kg và chiều cao tính bằng m\n",
    "\n",
    "# Chỉ số BMI đối với người trên 20 tuổi được phân loại và diễn giải theo bảng sau:\n",
    "\n",
    "# BMI < 16: Gầy cấp độ III\n",
    "# 16 <= BMI < 17:  Gầy cấp độ II\n",
    "# 17<= BMI < 18.5: Gầy cấp độ I\n",
    "# 18.5 <= BMI < 25: Bình thường\n",
    "# 25 <= BMI < 30: Thừa cân\n",
    "# 30 <= BMI < 35 : Béo phì cấp độ I\n",
    "# 35 <= BMI < 40: Béo phì cấp độ II\n",
    "# BMI > 40: Béo phì cấp độ III\n",
    "\n",
    "h = float(input(\"nhap chieu cao:\"))\n",
    "w = float(input(\"nhap can nang:\"))\n",
    "\n",
    "BMI = w/(h**2)\n",
    "\n",
    "if(BMI < 16): \n",
    "    print(\"Gầy cấp độ III\")\n",
    "elif(16 <= BMI < 17):  \n",
    "    print(\"Gầy cấp độ II\")\n",
    "elif(17<= BMI < 18.5): \n",
    "    print(\"Gầy cấp độ I\")\n",
    "elif(18.5 <= BMI < 25): \n",
    "    print(\"Bình thường\")\n",
    "elif(25 <= BMI < 30): \n",
    "    print(\"Thừa cân\")\n",
    "elif(30 <= BMI < 35): \n",
    "    print(\"Béo phì cấp độ I\")\n",
    "elif(35 <= BMI < 40): \n",
    "    print(\"Béo phì cấp độ II\")\n",
    "else: \n",
    "    print(\"Béo phì cấp độ III\")\n"
   ]
  },
  {
   "cell_type": "code",
   "execution_count": null,
   "id": "dfcdd989",
   "metadata": {},
   "outputs": [],
   "source": [
    "# Viết chương trình yêu cầu người dùng nhập một số trong phạm vi từ 1 đến 7. Sau đó hãy in ra ngày tương ứng: \n",
    "\n",
    "# 1: Monday\n",
    "\n",
    "# 2: Tuesday\n",
    "\n",
    "# 3: Wednesday\n",
    "\n",
    "# 4: Thursday\n",
    "\n",
    "# 5: Friday\n",
    "\n",
    "# 6: Saturday\n",
    "\n",
    "# 7: Sunday\n",
    "\n",
    "# Nếu người dùng nhập số ngoài phạm vi từ 1 đến 7 thì hãy in ra “error, out of range”.\n",
    "\n",
    "\n",
    "num = int(input(\"Give me a number (form 1 to 7): \"))\n",
    "if num == 1:\n",
    "    print(\"Monday\")\n",
    "elif num == 2:\n",
    "    print(\"Tuesday\")\n",
    "elif num == 3:\n",
    "    print(\"Wednesday\")\n",
    "elif num == 4:\n",
    "    print(\"Thursday\")\n",
    "elif num == 5:\n",
    "    print(\"Friday\")\n",
    "elif num == 6:\n",
    "    print(\"Saturday\")\n",
    "elif num == 7:\n",
    "    print(\"Sunday\")\n",
    "else:\n",
    "    print(\"Error, out of range\")"
   ]
  }
 ],
 "metadata": {
  "kernelspec": {
   "display_name": "Python 3 (ipykernel)",
   "language": "python",
   "name": "python3"
  },
  "language_info": {
   "codemirror_mode": {
    "name": "ipython",
    "version": 3
   },
   "file_extension": ".py",
   "mimetype": "text/x-python",
   "name": "python",
   "nbconvert_exporter": "python",
   "pygments_lexer": "ipython3",
   "version": "3.10.4"
  }
 },
 "nbformat": 4,
 "nbformat_minor": 5
}
