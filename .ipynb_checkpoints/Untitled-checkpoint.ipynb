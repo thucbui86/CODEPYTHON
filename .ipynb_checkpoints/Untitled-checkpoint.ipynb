{
 "cells": [
  {
   "cell_type": "code",
   "execution_count": 1,
   "id": "53cec14c",
   "metadata": {},
   "outputs": [
    {
     "data": {
      "text/plain": [
       "<function turtle.mainloop()>"
      ]
     },
     "execution_count": 1,
     "metadata": {},
     "output_type": "execute_result"
    }
   ],
   "source": [
    "# star drawing by for loop\n",
    "import turtle\n",
    "t = turtle.Turtle()\n",
    "\n",
    "turtle.bgcolor('black')\n",
    "turtle.title('star')\n",
    "\n",
    "t.speed(0)\n",
    "t.color('red')\n",
    "\n",
    "for j in range(1,100):\n",
    "    for i in range(1,6):\n",
    "        t.lt(144)\n",
    "        t.fd(200)\n",
    "    t.lt(5)\n",
    "turtle.done"
   ]
  },
  {
   "cell_type": "code",
   "execution_count": 2,
   "id": "0576b910",
   "metadata": {
    "scrolled": true
   },
   "outputs": [
    {
     "name": "stdout",
     "output_type": "stream",
     "text": [
      "your char?:*\n",
      "width?:20\n",
      "height?:30\n",
      "********************\n",
      "*                  *\n",
      "*                  *\n",
      "*                  *\n",
      "*                  *\n",
      "*                  *\n",
      "*                  *\n",
      "*                  *\n",
      "*                  *\n",
      "*                  *\n",
      "*                  *\n",
      "*                  *\n",
      "*                  *\n",
      "*                  *\n",
      "*                  *\n",
      "*                  *\n",
      "*                  *\n",
      "*                  *\n",
      "*                  *\n",
      "*                  *\n",
      "*                  *\n",
      "*                  *\n",
      "*                  *\n",
      "*                  *\n",
      "*                  *\n",
      "*                  *\n",
      "*                  *\n",
      "*                  *\n",
      "*                  *\n",
      "********************\n"
     ]
    }
   ],
   "source": [
    "# rectange drawing by char\n",
    "\n",
    "char = input(\"your char?:\")\n",
    "width = int(input(\"width?:\"))\n",
    "height = int(input(\"height?:\"))\n",
    "\n",
    "for i in range(1, height + 1):\n",
    "    print_str = \"\"\n",
    "    for j in range(1, width + 1):\n",
    "        if i == 1 or i == height:\n",
    "            print_str += char\n",
    "        else:\n",
    "            if j == 1 or j == width:\n",
    "                print_str += char\n",
    "            else:\n",
    "                print_str += \" \"\n",
    "    print(print_str)"
   ]
  },
  {
   "cell_type": "code",
   "execution_count": 1,
   "id": "a7ccb52c",
   "metadata": {},
   "outputs": [],
   "source": [
    "import turtle\n",
    "square = turtle.Turtle()\n",
    "\n",
    "def draw_square(angle):\n",
    "    for i in range(3):\n",
    "        square.forward(100)\n",
    "        square.right(90)    \n",
    "\n",
    "    square.forward(100)\n",
    "    square.right(90 + angle)\n",
    "    \n",
    "step = 36\n",
    "angle = 360 / step\n",
    "for i in range(step):\n",
    "    draw_square(angle) \n",
    "\n",
    "turtle.done()"
   ]
  },
  {
   "cell_type": "code",
   "execution_count": 2,
   "id": "2afeb75b",
   "metadata": {},
   "outputs": [
    {
     "name": "stdout",
     "output_type": "stream",
     "text": [
      "Fruits inside function ['Orange', 'Apple', 'Grapes', 'Mango']\n",
      "Fruits outside function ['Orange', 'Apple', 'Grapes', 'Mango']\n"
     ]
    }
   ],
   "source": [
    "fruits = [\"Orange\", \"Apple\", \"Grapes\"]\n",
    "\n",
    "def add_fruit(fruits, fruit_to_add):    \n",
    "    fruits.append(fruit_to_add)    \n",
    "    print('Fruits inside function', fruits)\n",
    "\n",
    "fruit_to_add = \"Mango\"\n",
    "add_fruit(fruits, fruit_to_add)\n",
    "print('Fruits outside function', fruits)"
   ]
  },
  {
   "cell_type": "code",
   "execution_count": 3,
   "id": "3673efea",
   "metadata": {},
   "outputs": [
    {
     "name": "stdout",
     "output_type": "stream",
     "text": [
      "15\n"
     ]
    }
   ],
   "source": [
    "def outerFun(a, b):\n",
    "\n",
    "    def innerFun(c, d):\n",
    "\n",
    "        return c + d\n",
    "\n",
    "    return innerFun(a, b)\n",
    "\n",
    "    return a\n",
    "\n",
    "result = outerFun(5, 10)\n",
    "\n",
    "print(result)"
   ]
  },
  {
   "cell_type": "code",
   "execution_count": 5,
   "id": "a76fcb59",
   "metadata": {},
   "outputs": [
    {
     "name": "stdout",
     "output_type": "stream",
     "text": [
      "21\n"
     ]
    }
   ],
   "source": [
    "def some_thing(number1, number2):\n",
    "\n",
    "    first_value = number1 + 8\n",
    "\n",
    "    second_value = number2 - 5\n",
    "\n",
    "    return first_value\n",
    "\n",
    "print(some_thing(13, 10))"
   ]
  },
  {
   "cell_type": "code",
   "execution_count": 6,
   "id": "00f5abaf",
   "metadata": {},
   "outputs": [
    {
     "name": "stdout",
     "output_type": "stream",
     "text": [
      "10\n"
     ]
    }
   ],
   "source": [
    "def func(n):\n",
    "\n",
    "   if(n==1):\n",
    "\n",
    "      return 1;\n",
    "\n",
    "   else:\n",
    "\n",
    "      return(n+func(n-1))\n",
    "\n",
    "print(func(4))"
   ]
  },
  {
   "cell_type": "code",
   "execution_count": 7,
   "id": "617511fc",
   "metadata": {},
   "outputs": [
    {
     "name": "stdout",
     "output_type": "stream",
     "text": [
      "19\n"
     ]
    }
   ],
   "source": [
    "x = 5\n",
    "\n",
    "def foo():\n",
    "\n",
    "    global x\n",
    "\n",
    "    x = 4\n",
    "\n",
    "def bar(a, b):\n",
    "\n",
    "    global x\n",
    "\n",
    "    return a + b + x\n",
    "\n",
    "foo()\n",
    "\n",
    "print(bar(7, 8))"
   ]
  },
  {
   "cell_type": "code",
   "execution_count": 8,
   "id": "330a793a",
   "metadata": {},
   "outputs": [
    {
     "name": "stdout",
     "output_type": "stream",
     "text": [
      "Nhập dãy chữ số: 2346\n",
      "hai ba bốn sáu "
     ]
    }
   ],
   "source": [
    "numbers = input(\"Nhập dãy chữ số: \")\n",
    "text = (\"không\", \"một\", \"hai\", \"ba\", \"bốn\", \"năm\", \"sáu\", \"bảy\", \"tám\", \"chín\")\n",
    "for num in numbers:\n",
    "      print(text[int(num)], end=' ')"
   ]
  }
 ],
 "metadata": {
  "kernelspec": {
   "display_name": "Python 3 (ipykernel)",
   "language": "python",
   "name": "python3"
  },
  "language_info": {
   "codemirror_mode": {
    "name": "ipython",
    "version": 3
   },
   "file_extension": ".py",
   "mimetype": "text/x-python",
   "name": "python",
   "nbconvert_exporter": "python",
   "pygments_lexer": "ipython3",
   "version": "3.10.4"
  }
 },
 "nbformat": 4,
 "nbformat_minor": 5
}
