{
 "cells": [
  {
   "cell_type": "code",
   "execution_count": 2,
   "id": "170bb914",
   "metadata": {},
   "outputs": [
    {
     "name": "stdout",
     "output_type": "stream",
     "text": [
      "9 14 a\n"
     ]
    }
   ],
   "source": [
    "i = 0\n",
    "\n",
    "j = 20\n",
    "\n",
    "while True:\n",
    "\n",
    "    j -= 2\n",
    "\n",
    "    i += 3\n",
    "\n",
    "    if i >= j:\n",
    "\n",
    "        break\n",
    "\n",
    "    if j > 15:\n",
    "\n",
    "        continue\n",
    "\n",
    "    print(i, j, sep=\" \", end=\" \")\n",
    "\n",
    "else:\n",
    "\n",
    "    print(j, end=\" \")\n",
    "\n",
    "print(\"a\")"
   ]
  },
  {
   "cell_type": "code",
   "execution_count": 1,
   "id": "53cec14c",
   "metadata": {},
   "outputs": [
    {
     "data": {
      "text/plain": [
       "<function turtle.mainloop()>"
      ]
     },
     "execution_count": 1,
     "metadata": {},
     "output_type": "execute_result"
    }
   ],
   "source": [
    "# star drawing by for loop\n",
    "import turtle\n",
    "t = turtle.Turtle()\n",
    "\n",
    "turtle.bgcolor('black')\n",
    "turtle.title('star')\n",
    "\n",
    "t.speed(0)\n",
    "t.color('red')\n",
    "\n",
    "for j in range(1,100):\n",
    "    for i in range(1,6):\n",
    "        t.lt(144)\n",
    "        t.fd(200)\n",
    "    t.lt(5)\n",
    "turtle.done"
   ]
  },
  {
   "cell_type": "code",
   "execution_count": 2,
   "id": "a454fe85",
   "metadata": {},
   "outputs": [
    {
     "name": "stdout",
     "output_type": "stream",
     "text": [
      "your char?:*\n",
      "width?:20\n",
      "height?:30\n",
      "********************\n",
      "*                  *\n",
      "*                  *\n",
      "*                  *\n",
      "*                  *\n",
      "*                  *\n",
      "*                  *\n",
      "*                  *\n",
      "*                  *\n",
      "*                  *\n",
      "*                  *\n",
      "*                  *\n",
      "*                  *\n",
      "*                  *\n",
      "*                  *\n",
      "*                  *\n",
      "*                  *\n",
      "*                  *\n",
      "*                  *\n",
      "*                  *\n",
      "*                  *\n",
      "*                  *\n",
      "*                  *\n",
      "*                  *\n",
      "*                  *\n",
      "*                  *\n",
      "*                  *\n",
      "*                  *\n",
      "*                  *\n",
      "********************\n"
     ]
    }
   ],
   "source": [
    "# rectange drawing by char\n",
    "\n",
    "char = input(\"your char?:\")\n",
    "width = int(input(\"width?:\"))\n",
    "height = int(input(\"height?:\"))\n",
    "\n",
    "for i in range(1, height + 1):\n",
    "    print_str = \"\"\n",
    "    for j in range(1, width + 1):\n",
    "        if i == 1 or i == height:\n",
    "            print_str += char\n",
    "        else:\n",
    "            if j == 1 or j == width:\n",
    "                print_str += char\n",
    "            else:\n",
    "                print_str += \" \"\n",
    "    print(print_str)"
   ]
  }
 ],
 "metadata": {
  "kernelspec": {
   "display_name": "Python 3 (ipykernel)",
   "language": "python",
   "name": "python3"
  },
  "language_info": {
   "codemirror_mode": {
    "name": "ipython",
    "version": 3
   },
   "file_extension": ".py",
   "mimetype": "text/x-python",
   "name": "python",
   "nbconvert_exporter": "python",
   "pygments_lexer": "ipython3",
   "version": "3.10.4"
  }
 },
 "nbformat": 4,
 "nbformat_minor": 5
}
