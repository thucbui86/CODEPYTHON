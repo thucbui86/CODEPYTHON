{
 "cells": [
  {
   "cell_type": "code",
   "execution_count": 1,
   "id": "0bd29309",
   "metadata": {},
   "outputs": [
    {
     "name": "stdout",
     "output_type": "stream",
     "text": [
      "nhap a:16\n",
      "nhap b:30\n",
      "16\n",
      "17\n",
      "Fizz\n",
      "19\n",
      "Buzz\n",
      "Fizz\n",
      "22\n",
      "23\n",
      "Fizz\n",
      "Buzz\n",
      "26\n",
      "Fizz\n",
      "28\n",
      "29\n",
      "FizzBuzz\n"
     ]
    }
   ],
   "source": [
    "# Bài toán FizzBuzz\n",
    "\n",
    "a = int(input(\"nhap a:\"))\n",
    "b = int(input(\"nhap b:\"))\n",
    "if(a<b):\n",
    "    for i in range(a, b+1):\n",
    "        if(i%3==0 and i%5==0):\n",
    "            print(\"FizzBuzz\")\n",
    "        elif(i%3==0):\n",
    "            print(\"Fizz\")\n",
    "        elif(i%5==0):\n",
    "            print(\"Buzz\")\n",
    "        else:\n",
    "            print(i)"
   ]
  }
 ],
 "metadata": {
  "kernelspec": {
   "display_name": "Python 3 (ipykernel)",
   "language": "python",
   "name": "python3"
  },
  "language_info": {
   "codemirror_mode": {
    "name": "ipython",
    "version": 3
   },
   "file_extension": ".py",
   "mimetype": "text/x-python",
   "name": "python",
   "nbconvert_exporter": "python",
   "pygments_lexer": "ipython3",
   "version": "3.10.4"
  }
 },
 "nbformat": 4,
 "nbformat_minor": 5
}
