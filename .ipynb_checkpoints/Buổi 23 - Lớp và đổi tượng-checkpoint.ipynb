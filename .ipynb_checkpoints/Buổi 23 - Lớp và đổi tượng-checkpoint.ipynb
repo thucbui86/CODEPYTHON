{
 "cells": [
  {
   "cell_type": "markdown",
   "id": "1c805421",
   "metadata": {},
   "source": [
    "# Lớp và đối tượng\n",
    "\n",
    "### Lớp (class) là gì?\n",
    "\n",
    "Lớp (Class) là tập hợp tất cả các đối tượng có chung các thuộc tính và hành vi."
   ]
  },
  {
   "cell_type": "markdown",
   "id": "812bf15e",
   "metadata": {},
   "source": [
    "### Khai báo lớp\n",
    "\n",
    "`class <tên lớp>:\n",
    "    <khai báo biến>\n",
    "    <khai báo hàm>`\n",
    "    \n",
    "Ví dụ:\n",
    "\n",
    "`class giangvien:\n",
    "    ten = \"Nguyễn Tâm Điền\"\n",
    "    mon = \"Python căn bản\"\n",
    "    def inten(self):\n",
    "        print(self.ten)        \n",
    "dien = giangvien()\n",
    "print(dien.mon)\n",
    "dien.inten()`\n",
    "\n",
    "##### Lưu ý:\n",
    "\n",
    "- giangvien là 1 lớp\n",
    "- dien là 1 đối tượng có tất cả thuộc tính (có biến ten, mon và hàm inten) của lớp giangvien\n",
    "- inten là 1 hàm trong lớp giangvien\n",
    "- dien.mon là 1 biến trong đối tượng dien\n",
    "- dien.inten() là cách để gọi hàm inten trong đối tượng dien\n",
    "\n",
    "\n",
    "<b> Hãy chạy thử đoạn lệnh ở ví dụ: </b>"
   ]
  },
  {
   "cell_type": "code",
   "execution_count": null,
   "id": "40598ff8",
   "metadata": {},
   "outputs": [],
   "source": []
  },
  {
   "cell_type": "markdown",
   "id": "6c4daedf",
   "metadata": {},
   "source": [
    "<b> Hãy tạo 1 class hocvien với 1 biến và 1 def giúp in giá trị biến đó ra màn hình </b>"
   ]
  },
  {
   "cell_type": "code",
   "execution_count": 22,
   "id": "5358318d",
   "metadata": {},
   "outputs": [
    {
     "name": "stdout",
     "output_type": "stream",
     "text": [
      "thucbui co diem la 9\n",
      "thucbui co diem la 9\n"
     ]
    }
   ],
   "source": [
    "class hocvien:\n",
    "    ten = 'thucbui'\n",
    "    diem = 9\n",
    "    \n",
    "    def inten(self):\n",
    "        print(f\"{self.ten} co diem la {self.diem}\")\n",
    "        \n",
    "    def nhanheso(self, a): ### a la he so (a chap nhan tu 0 den 1)\n",
    "        self.diem = self.diem*a\n",
    "\n",
    "    def sosanhdiem(self, HV2): # HV2 la mot doi tuong thuoc lop hocvien\n",
    "        # in ra ten doi tuong co diem cao hon\n",
    "        # ham nay co 2 doi tuong: 1 la self, doi tuong 2 la HV\n",
    "        if self.diem < HV2.diem:\n",
    "            print(HV2.ten)\n",
    "        else:\n",
    "            print(self.ten)\n",
    "    \n",
    "    def capnhatdiem(self, diem):\n",
    "        if 0 <= diem <= 10:\n",
    "            self.diem = diem\n",
    "    \n",
    "thuc = hocvien()\n",
    "# thuc.nhanheso(0.7)\n",
    "thuc.inten()\n",
    "tung = hocvien()\n",
    "# tung.ten = \"Pham xuan Tung\"\n",
    "# tung.diem = 8\n",
    "# thuc.sosanhdiem(tung)\n",
    "thuc.capnhatdiem(-2)\n",
    "thuc.inten()"
   ]
  },
  {
   "cell_type": "markdown",
   "id": "b2481280",
   "metadata": {},
   "source": [
    "### Tham số self\n",
    "\n",
    "Tham số self là tham số được sử dụng khi khai báo các hàm trong lớp\n",
    "\n",
    "Tham số self miêu tả chính lớp ta đang xây dựng, giúp chúng ta sử dụng được những biến và hàm của lớp đó\n",
    "\n",
    "Ví dụ:\n",
    "\n",
    "`class giangvien:\n",
    "    ten = \"Nguyễn Tâm Điền\"\n",
    "    mon = \"Python căn bản\"\n",
    "    def doiten(self,ten):\n",
    "        self.ten = ten\n",
    "    def inten(self):\n",
    "        print(self.ten)        \n",
    "dien = giangvien()\n",
    "dien.doiten(\"NTD\")\n",
    "dien.inten()`\n",
    "\n",
    "Sau khi thực hiện đoạn code trên, giá trị của biến ten trong đối tượng dien đã bị thay đổi thành \"NTD\"\n",
    "\n",
    "<b> Hãy chạy thử đoạn lệnh ở ví dụ: </b>"
   ]
  },
  {
   "cell_type": "code",
   "execution_count": null,
   "id": "fd2f5d7c",
   "metadata": {},
   "outputs": [],
   "source": [
    "class Hocvien:\n",
    "    def __init__(self, ten, tuoi):\n",
    "        self.ten = ten\n",
    "        self.tuoi = tuoi"
   ]
  },
  {
   "cell_type": "markdown",
   "id": "4dfd8d1d",
   "metadata": {},
   "source": [
    "<b> Hãy thêm 1 def vào class hocvien giúp thay đổi giá trị biến bất kỳ trong class </b>"
   ]
  },
  {
   "cell_type": "code",
   "execution_count": null,
   "id": "98d911c0",
   "metadata": {},
   "outputs": [],
   "source": []
  },
  {
   "cell_type": "markdown",
   "id": "b2909dd4",
   "metadata": {},
   "source": [
    "### Hàm \\_\\_init__\n",
    "\n",
    "Hàm \\_\\_init__ là hàm khởi tạo\n",
    "\n",
    "Ví dụ:\n",
    "\n",
    "`class giangvien:\n",
    "    def __init__(self,ten,mon):\n",
    "        self.ten = ten\n",
    "        self.mon = mon\n",
    "    def doiten(self,ten):\n",
    "        self.ten = ten\n",
    "    def inten(self):\n",
    "        print(self.ten)   \n",
    "dien = giangvien(\"Điền\",\"Python căn bản\")\n",
    "thang = giangvien(\"Thắng\",\"Python siêu cấp\")\n",
    "dien.inten()\n",
    "thang.inten()`\n",
    "\n",
    "<b> Hãy chạy thử đoạn lệnh ở ví dụ: </b>"
   ]
  },
  {
   "cell_type": "code",
   "execution_count": 1,
   "id": "f15266fb",
   "metadata": {},
   "outputs": [
    {
     "name": "stdout",
     "output_type": "stream",
     "text": [
      "Nguyễn Tâm Điền\n",
      "Kiên Nguyễn\n",
      "lap trinh C\n"
     ]
    }
   ],
   "source": [
    "class giangvien: ## là khuôn mẫu cho đối tượng\n",
    "    ten = \"Nguyễn Tâm Điền\"\n",
    "    mon = \"Python căn bản\"\n",
    "    def inten(self): ## đây là hành vi (hàm)\n",
    "        print(self.ten)\n",
    "    def inmon(self):\n",
    "        print(self.mon)\n",
    "dien = giangvien()\n",
    "dien.inten()\n",
    "kien = giangvien()\n",
    "kien.ten = \"Kiên Nguyễn\"\n",
    "kien.inten()\n",
    "kien.mon = \"lap trinh C\"\n",
    "kien.inmon()\n"
   ]
  },
  {
   "cell_type": "markdown",
   "id": "9064cc0a",
   "metadata": {},
   "source": [
    "<b> Hãy thêm 1 def \\_\\_init__ vào class hocvien để khởi tạo tên và tuổi của học viên </b>"
   ]
  },
  {
   "cell_type": "code",
   "execution_count": null,
   "id": "3e6a0dae",
   "metadata": {},
   "outputs": [],
   "source": []
  },
  {
   "cell_type": "markdown",
   "id": "d137f2f5",
   "metadata": {},
   "source": [
    "### Bài tập"
   ]
  },
  {
   "cell_type": "markdown",
   "id": "d243726c",
   "metadata": {},
   "source": [
    "Hãy xây dựng 1 class hình tròn có các thuộc tính sau:\n",
    "\n",
    "- biến x và y chứa tọa độ tâm đường tròn\n",
    "- biến r chứa bán kính đường chọn\n",
    "- hàm draw: để vẽ đường tròn"
   ]
  },
  {
   "cell_type": "code",
   "execution_count": 1,
   "id": "4121525f",
   "metadata": {},
   "outputs": [],
   "source": [
    "import turtle\n",
    "t = turtle.Turtle()\n",
    "class Hinhtron:\n",
    "    def __init__(self, x, y, r):\n",
    "        self.x = x\n",
    "        self.y = y\n",
    "        self.r = r\n",
    "    def draw(self):\n",
    "        t.penup()\n",
    "        t.goto(self.x, self.y - self.r)\n",
    "        t.pendown()\n",
    "        t.circle(self.r)\n",
    "duongtron = Hinhtron(3,5,20)\n",
    "duongtron.draw()\n"
   ]
  },
  {
   "cell_type": "code",
   "execution_count": null,
   "id": "54336b3c",
   "metadata": {},
   "outputs": [],
   "source": []
  },
  {
   "cell_type": "markdown",
   "id": "9017050f",
   "metadata": {},
   "source": [
    "Tạo một lớp phân số có các thuộc tính:\n",
    "\n",
    "- biến tử số và mẫu số\n",
    "- hàm cong: để cộng với một đối tượng khác có lớp phân số rồi trả về dối tượng có phân số mới\n",
    "- hàm tru: để trừ với một đối tượng khác có lớp phân số rồi trả về dối tượng có phân số mới\n",
    "- hàm nhan: để nhân với một đối tượng khác có lớp phân số rồi trả về dối tượng có phân số mới\n",
    "- hàm chia: để chia với một đối tượng khác có lớp phân số rồi trả về dối tượng có phân số mới\n",
    "- hàm toigian: để tối giản phân số rồi trả về dối tượng có phân số mới"
   ]
  },
  {
   "cell_type": "code",
   "execution_count": 23,
   "id": "2ae72d93",
   "metadata": {},
   "outputs": [
    {
     "name": "stdout",
     "output_type": "stream",
     "text": [
      "phan so moi: 19 / 9\n"
     ]
    }
   ],
   "source": [
    "class Phanso:\n",
    "    def __init__(self, tuso, mauso):\n",
    "        self.tuso = tuso\n",
    "        self.mauso = mauso\n",
    "    def cong_phanso(self, x):\n",
    "        z = self.tuso * x.mauso + self.mauso * x.tuso\n",
    "        t = self.mauso * self.mauso\n",
    "        print(\"phan so moi:\", z, \"/\", t)\n",
    "    \n",
    "a = Phanso(2, 3)\n",
    "b = Phanso(3, 5)\n",
    "a.cong_phanso(b)\n",
    "    "
   ]
  },
  {
   "cell_type": "code",
   "execution_count": 2,
   "id": "e7eab06d",
   "metadata": {},
   "outputs": [
    {
     "name": "stdout",
     "output_type": "stream",
     "text": [
      "9 9\n",
      "-3 9\n",
      "2 9\n",
      "3 6\n",
      "2.0 5.0\n"
     ]
    }
   ],
   "source": [
    "def uscln(a, b):\n",
    "    if (b == 0):\n",
    "        return a;\n",
    "    return uscln(b, a % b)\n",
    "\n",
    "class phanso:\n",
    "    def __init__(self, tu_so, mau_so):\n",
    "        self.tu_so = tu_so\n",
    "        self.mau_so = mau_so\n",
    "    def cong(self,psA): ## psA là một đối tượng có lớp phanso\n",
    "        tuso_moi = self.tu_so*psA.mau_so + self.mau_so*psA.tu_so\n",
    "        mauso_moi = psA.mau_so*self.mau_so\n",
    "        return phanso(tuso_moi,mauso_moi)\n",
    "    \n",
    "    def tru(self, psB):\n",
    "        tuso_moi = self.tu_so * psB.mau_so - self.mau_so * psB.tu_so\n",
    "        mauso_moi = psB.mau_so*self.mau_so \n",
    "        return phanso(tuso_moi, mauso_moi)\n",
    "    \n",
    "    def nhan(self, psC):\n",
    "        tuso_moi = self.tu_so * psC.tu_so\n",
    "        mauso_moi = self.mau_so * psC.mau_so\n",
    "        return phanso(tuso_moi, mauso_moi)\n",
    "   \n",
    "    def chia(self, psD):\n",
    "        tuso_moi = self.tu_so * psD.mau_so\n",
    "        mauso_moi = self.mau_so * psD.tu_so\n",
    "        return phanso(tuso_moi, mauso_moi)\n",
    "    \n",
    "    def toigian(self):        \n",
    "        tuso_moi = self.tu_so / uscln(self.tu_so, self.mau_so)\n",
    "        mauso_moi = self.mau_so / uscln(self.tu_so, self.mau_so)\n",
    "        return phanso(tuso_moi, mauso_moi)\n",
    "\n",
    "ps1 = phanso(1,3)\n",
    "ps2 = phanso(2,3)\n",
    "\n",
    "ps3 = ps1.cong(ps2) ## ps3 cũng là một đối tượng có lớp phanso\n",
    "print(ps3.tu_so,ps3.mau_so)\n",
    "\n",
    "ps4 = ps1.tru(ps2)\n",
    "print(ps4.tu_so, ps4.mau_so)\n",
    "\n",
    "ps5 = ps1.nhan(ps2)\n",
    "print(ps5.tu_so, ps5.mau_so)\n",
    "\n",
    "ps6 = ps1.chia(ps2)\n",
    "print(ps6.tu_so, ps6.mau_so)\n",
    "\n",
    "ps7 = phanso(10, 25)\n",
    "x = ps7.toigian()\n",
    "print(x.tu_so, x.mau_so)\n"
   ]
  },
  {
   "cell_type": "code",
   "execution_count": 6,
   "id": "1555eb6d",
   "metadata": {},
   "outputs": [
    {
     "data": {
      "text/plain": [
       "2"
      ]
     },
     "execution_count": 6,
     "metadata": {},
     "output_type": "execute_result"
    }
   ],
   "source": [
    "def uscln(a, b):\n",
    "    if (b == 0):\n",
    "        return a;\n",
    "    return uscln(b, a % b)\n",
    "uscln(18,10)"
   ]
  },
  {
   "cell_type": "markdown",
   "id": "39a8cb80",
   "metadata": {},
   "source": [
    "Viết class NhanVien gồm các thuộc tính:\n",
    "\n",
    "<b> Các biến </b>\n",
    "\n",
    "- Tên\n",
    "- Tuổi\n",
    "- Địa chỉ\n",
    "- Tiền lương\n",
    "- Tổng số giờ làm\n",
    "\n",
    "<b> Các hàm </b>\n",
    "\n",
    "- nhap : Nhập các thông tin cho nhân viên từ bàn phím\n",
    "- in : In ra tất cả các thông tin của nhân viên\n",
    "- thuong: Tính toán và trả về số tiền thưởng của nhân viên theo công thức sau:\n",
    "\n",
    "    Nếu tổng số giờ làm của nhân viên >=200 thì thưởng = lương * 20%\n",
    "    \n",
    "    Nếu tổng số giờ làm của nhân viên <200 và >=100 thì thưởng = lương * 10%\n",
    "    \n",
    "    Nếu tổng số giờ làm của nhân viên <100 thì thưởng = 0"
   ]
  },
  {
   "cell_type": "code",
   "execution_count": null,
   "id": "26d12a44",
   "metadata": {},
   "outputs": [
    {
     "name": "stdout",
     "output_type": "stream",
     "text": [
      "nhap ten:thuc\n",
      "nhap tuoi:36\n",
      "nhap dia chi:thai binh\n",
      "nhap luong:20000000\n",
      "thoi gian lam viec:201\n",
      "ten: thuc, tuoi: 36, dia chi: thai binh, luong: 20000000, thoi gian lam viec: 201\n",
      "tien thuong cho nhan vien: 4000000.0\n"
     ]
    }
   ],
   "source": [
    "class Nhanvien:\n",
    "    def __init__(self, ten, tuoi, dia_chi, luong, thoigian_lamviec):\n",
    "        self.ten = input(\"nhap ten:\")\n",
    "        self. tuoi = int(input(\"nhap tuoi:\"))\n",
    "        self.dia_chi = input(\"nhap dia chi:\")\n",
    "        self.luong = int(input(\"nhap luong:\"))\n",
    "        self.thoigian_lamviec = int(input(\"thoi gian lam viec:\"))\n",
    "    \n",
    "    def inNhanvien(self):\n",
    "        print(f\"ten: {self.ten}, tuoi: {self.tuoi}, dia chi: {self.dia_chi}, luong: {self.luong}, thoi gian lam viec: {self.thoigian_lamviec}\")\n",
    "    \n",
    "    def thuong(self):\n",
    "        bonus = 0\n",
    "        if self.thoigian_lamviec >= 200:\n",
    "            bonus = self.luong * 0.2\n",
    "        elif self.thoigian_lamviec >= 100:\n",
    "            bonus = self.luong * 0.1\n",
    "        else:\n",
    "            bonus = 0\n",
    "        print(\"tien thuong cho nhan vien:\", bonus)\n",
    "    \n",
    "nv1 = Nhanvien(\"\", 0, \"\", 0, 0)\n",
    "nv1.inNhanvien()\n",
    "nv1.thuong()\n",
    "\n",
    "nv2 = Nhanvien(\"\", 0, \"\", 0, 0)\n",
    "nv2.inNhanvien()\n",
    "nv2.thuong()"
   ]
  },
  {
   "cell_type": "code",
   "execution_count": 2,
   "id": "0ca6c3a9",
   "metadata": {},
   "outputs": [
    {
     "name": "stdout",
     "output_type": "stream",
     "text": [
      "Nhập Tên:thuc\n",
      "Nhập Tuổi:37\n",
      "Nhập Địa chỉ:thaibinh\n",
      "Nhập Tiền lương:2000000\n",
      "Nhập Số giờ làm:21\n",
      "Tên: thuc\n",
      "Tuổi: 37\n",
      "Địa chỉ: thaibinh\n",
      "Tiền lương: 2000000\n",
      "Số giờ làm: 21\n",
      "0\n"
     ]
    }
   ],
   "source": [
    "class NhanVien:\n",
    "    def __init__(self,ten,tuoi,diachi,tienluong,tongsogiolam):\n",
    "        self.data = {}\n",
    "        self.data[\"Tên\"] = ten\n",
    "        self.data[\"Tuổi\"] = tuoi\n",
    "        self.data[\"Địa chỉ\"] = diachi\n",
    "        self.data[\"Tiền lương\"] = tienluong\n",
    "        self.data[\"Số giờ làm\"] = tongsogiolam\n",
    "    def nhap(self):\n",
    "        for key in self.data:\n",
    "            self.data[key] = input(\"Nhập \" + key + \":\")\n",
    "            if self.data[key].isnumeric():\n",
    "                self.data[key] = int(self.data[key])\n",
    "    def inthongtin(self):\n",
    "        for key in self.data:\n",
    "            print(key,\": \",self.data[key], sep = \"\")\n",
    "    def thuong(self):\n",
    "        sogiolam = self.data[\"Số giờ làm\"]\n",
    "        luong = self.data[\"Tiền lương\"]\n",
    "        if sogiolam >= 200:\n",
    "            return luong*0.2\n",
    "        elif sogiolam >= 100:\n",
    "            return luong*0.1\n",
    "        else:\n",
    "            return 0\n",
    "        \n",
    "nhanvienA = NhanVien(\"Nguyễn Văn A\",30,\"123 Hà Đông\",20000000,240)\n",
    "nhanvienA.nhap()\n",
    "nhanvienA.inthongtin()\n",
    "print(nhanvienA.thuong())"
   ]
  },
  {
   "cell_type": "code",
   "execution_count": null,
   "id": "6c30ad25",
   "metadata": {},
   "outputs": [],
   "source": []
  }
 ],
 "metadata": {
  "kernelspec": {
   "display_name": "Python 3 (ipykernel)",
   "language": "python",
   "name": "python3"
  },
  "language_info": {
   "codemirror_mode": {
    "name": "ipython",
    "version": 3
   },
   "file_extension": ".py",
   "mimetype": "text/x-python",
   "name": "python",
   "nbconvert_exporter": "python",
   "pygments_lexer": "ipython3",
   "version": "3.10.4"
  }
 },
 "nbformat": 4,
 "nbformat_minor": 5
}
