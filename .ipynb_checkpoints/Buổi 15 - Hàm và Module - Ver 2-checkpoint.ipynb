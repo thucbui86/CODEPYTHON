{
 "cells": [
  {
   "cell_type": "markdown",
   "id": "73456e5e",
   "metadata": {},
   "source": [
    "# Hàm\n",
    "\n",
    "### Hàm\n",
    "\n",
    "Cú pháp:\n",
    "\n",
    "`def <tên hàm>(<tham số)>:\n",
    "    //Nội dung hàm`\n",
    "\n",
    "Gọi hàm:\n",
    "`<tên hàm>(<giá trị đầu vào>)`\n",
    "\n",
    "Ví dụ:\n",
    "\n",
    "Hãy viết 1 hàm số để tính tổng 2 số đầu vào và in nó ra màn hình"
   ]
  },
  {
   "cell_type": "code",
   "execution_count": 2,
   "id": "af5b9f6d",
   "metadata": {},
   "outputs": [
    {
     "name": "stdout",
     "output_type": "stream",
     "text": [
      "2\n",
      "4\n",
      "6\n"
     ]
    }
   ],
   "source": [
    "a = int(input())\n",
    "b = int(input())\n",
    "def Sum(a,b):\n",
    "    return a+b\n",
    "print(\"Tong hai so:\",Sum(a,b))"
   ]
  },
  {
   "cell_type": "code",
   "execution_count": 9,
   "id": "14862109",
   "metadata": {},
   "outputs": [
    {
     "name": "stdout",
     "output_type": "stream",
     "text": [
      "thuc\n",
      "36\n",
      "xin chao thuc, ban co 36 tuoi\n"
     ]
    }
   ],
   "source": [
    "# Viết 1 hàm cho nhập vào tên, tuổi\n",
    "# In ra thông tin xin chào {ten}, ban co {tuoi} tuoi\n",
    "\n",
    "def inThongTin():\n",
    "    ten = input()\n",
    "    tuoi = int(input())\n",
    "    print(f\"xin chao {ten}, ban co {tuoi} tuoi\")\n",
    "    \n",
    "inThongTin()"
   ]
  },
  {
   "cell_type": "code",
   "execution_count": 20,
   "id": "484c6d1c",
   "metadata": {},
   "outputs": [
    {
     "name": "stdout",
     "output_type": "stream",
     "text": [
      "2 x 1 = 2\n",
      "2 x 2 = 4\n",
      "2 x 3 = 6\n",
      "2 x 4 = 8\n",
      "2 x 5 = 10\n",
      "2 x 6 = 12\n",
      "2 x 7 = 14\n",
      "2 x 8 = 16\n",
      "2 x 9 = 18\n",
      "2 x 10 = 20\n"
     ]
    }
   ],
   "source": [
    "# viet ham dua vao 1 tham so dau vao, sau do in ra bang cuu chuong\n",
    "def cuuchuong(n):\n",
    "    for i in range(1, 11):\n",
    "        print(n, \"x\", i, \"=\", n*i)\n",
    "cuuchuong(2)"
   ]
  },
  {
   "cell_type": "code",
   "execution_count": 22,
   "id": "37ac4cbc",
   "metadata": {},
   "outputs": [
    {
     "name": "stdout",
     "output_type": "stream",
     "text": [
      "a + b =  13\n",
      "a - b =  5\n",
      "a x b =  36\n",
      "a / b =  2.25\n"
     ]
    }
   ],
   "source": [
    "def func(a,b):\n",
    "    print(\"a + b = \", a + b)\n",
    "    print(\"a - b = \", a - b)\n",
    "    print(\"a x b = \", a * b)\n",
    "    print(\"a / b = \", a/b)\n",
    "func(9,4)"
   ]
  },
  {
   "cell_type": "code",
   "execution_count": 28,
   "id": "89fd6583",
   "metadata": {},
   "outputs": [
    {
     "name": "stdout",
     "output_type": "stream",
     "text": [
      "Tên sản phẩm Bột giặt\n",
      "Giá:  150000\n",
      "Nhập số lượng cần mua:3\n",
      "Số tiền cần trả là  450000\n"
     ]
    }
   ],
   "source": [
    "## S là tên món hàng, a là giá tiền sản phẩm\n",
    "## Hãy in ra màn hình và mời mọi người nhập vào số lượng cần mua\n",
    "## Tính và in ra giá tiền cần trả\n",
    "\n",
    "def hanghoa(S,a):\n",
    "    print(\"Tên sản phẩm\",S)\n",
    "    print(\"Giá: \",a)\n",
    "    l = int(input(\"Nhập số lượng cần mua:\"))\n",
    "    l = l * 150000\n",
    "    print(\"Số tiền cần trả là \",l)\n",
    "hanghoa(\"Bột giặt\",150000)"
   ]
  },
  {
   "cell_type": "code",
   "execution_count": 37,
   "id": "626b8089",
   "metadata": {},
   "outputs": [
    {
     "name": "stdout",
     "output_type": "stream",
     "text": [
      "Mặt hàng Cơm gà\n",
      "Nhập vào số lượng muốn mua:3\n",
      "Mặt hàng Cơm sườn\n",
      "Nhập vào số lượng muốn mua:5\n",
      "Mặt hàng Cơm trứng\n",
      "Nhập vào số lượng muốn mua:6\n",
      "Tổng số tiền phải trả là 405000\n"
     ]
    }
   ],
   "source": [
    "## Dựa vào hàm đã viết ở bài trên, viết chương trình hỏi người dùng số lượng cần mua 3 sản phẩm sau:\n",
    "## Cơm sườn - 30000\n",
    "## Cơm gà - 35000\n",
    "## Cơm trứng - 25000\n",
    "## Sau khi người dùng đã nhập số lượng, tính và in ra tổng toàn bộ số tiền cần phải trả\n",
    "\n",
    "def muahang(s,a):\n",
    "    print('Mặt hàng',s)\n",
    "    sl = int(input('Nhập vào số lượng muốn mua:'))\n",
    "    return sl * a\n",
    "com_ga = muahang('Cơm gà',35000)\n",
    "com_suon = muahang('Cơm sườn',30000)\n",
    "com_trung = muahang('Cơm trứng',25000)\n",
    "print('Tổng số tiền phải trả là', com_ga + com_suon + com_trung)"
   ]
  },
  {
   "cell_type": "markdown",
   "id": "a7c39f47",
   "metadata": {},
   "source": [
    "### Giá trị trả về của hàm\n",
    "\n",
    "# return\n",
    "\n",
    "Cú pháp:\n",
    "\n",
    "`retrun <giá trị trả về>`\n",
    "\n",
    "##### Lưu ý: Sau khi thực hiện lệnh return, chương trình sẽ thoát khỏi hàm ngay lập tức (những lệnh sau đó không được thực hiện)\n",
    "\n",
    "Ví dụ:\n",
    "\n",
    "Hãy viết 1 hàm trả về giá trị trung bình của 2 số bất kỳ"
   ]
  },
  {
   "cell_type": "code",
   "execution_count": 3,
   "id": "0b527b95",
   "metadata": {},
   "outputs": [
    {
     "name": "stdout",
     "output_type": "stream",
     "text": [
      "3\n",
      "5\n",
      "giá trị trung bình của 2 số 4.0\n"
     ]
    }
   ],
   "source": [
    "a = int(input())\n",
    "b = int(input())\n",
    "def Sum(a,b):\n",
    "    return (a+b)/2\n",
    "avg = Sum(a,b)\n",
    "print(\"giá trị trung bình của 2 số\",avg)"
   ]
  },
  {
   "cell_type": "markdown",
   "id": "1d7f8db0",
   "metadata": {},
   "source": [
    "### Bài tập"
   ]
  },
  {
   "cell_type": "markdown",
   "id": "75fb488b",
   "metadata": {},
   "source": [
    "Viết hàm kiểm tra số nguyên tố"
   ]
  },
  {
   "cell_type": "code",
   "execution_count": 16,
   "id": "63701bd7",
   "metadata": {},
   "outputs": [
    {
     "name": "stdout",
     "output_type": "stream",
     "text": [
      "11\n"
     ]
    },
    {
     "data": {
      "text/plain": [
       "True"
      ]
     },
     "execution_count": 16,
     "metadata": {},
     "output_type": "execute_result"
    }
   ],
   "source": [
    "n = int(input())\n",
    "\n",
    "def soNT(n):\n",
    "    flag = True\n",
    "    if(n<2):\n",
    "        flag = False\n",
    "    elif(n == 2):\n",
    "        flag = True\n",
    "    else:\n",
    "        for i in range(3, (n//2) +1):\n",
    "            if(n%i == 0):\n",
    "                flag = False\n",
    "            else: \n",
    "                flag = True\n",
    "    return flag\n",
    "\n",
    "soNT(n)"
   ]
  },
  {
   "cell_type": "markdown",
   "id": "221103cf",
   "metadata": {},
   "source": [
    "Nhập vào 3 điểm toán, lý, hóa\n",
    "\n",
    "Hãy viết hàm in điểm trung bung bình rồi tính điểm trung bình của toán lý, toán hóa, lý hóa và toán lý hóa"
   ]
  },
  {
   "cell_type": "code",
   "execution_count": 39,
   "id": "1ba1d8ae",
   "metadata": {},
   "outputs": [
    {
     "name": "stdout",
     "output_type": "stream",
     "text": [
      "diem toan:8\n",
      "diem ly:5\n",
      "diem hoa:4\n",
      "Trung binh toan ly: 6.5\n",
      "Trung binh toan hoa: 6.0\n",
      "Trung binh toan ly hoa: 5.666666666666667\n"
     ]
    }
   ],
   "source": [
    "toan = float(input(\"diem toan:\"))\n",
    "ly = float(input(\"diem ly:\"))\n",
    "hoa = float(input(\"diem hoa:\"))\n",
    "def diemTB(toan, ly, hoa):\n",
    "    print(\"Trung binh toan ly:\",(toan + ly)/2)\n",
    "    print(\"Trung binh toan hoa:\",(toan + hoa)/2)\n",
    "    print(\"Trung binh toan ly hoa:\", (toan + ly + hoa)/3)\n",
    "diemTB(toan, ly, hoa)"
   ]
  },
  {
   "cell_type": "code",
   "execution_count": 41,
   "id": "6c9c1186",
   "metadata": {},
   "outputs": [
    {
     "name": "stdout",
     "output_type": "stream",
     "text": [
      "diem toan: 3\n",
      "diem ly: 6\n",
      "diem hoa: 7\n",
      "diem trung bình toán lý 4.5\n",
      "diem trung bình toán lý 5.0\n",
      "diem trung bình toán lý 5.333333333333333\n"
     ]
    }
   ],
   "source": [
    "# Giai theo yeu cau cua thay\n",
    "def diem_tb1(a,b):\n",
    "    tb1 = (a+b)/2\n",
    "    return tb1\n",
    "def diem_tb2(a,b,c):\n",
    "    tb2 = (a+b+c)/3\n",
    "    return tb2\n",
    "\n",
    "t = float(input('diem toan: '))\n",
    "l = float(input('diem ly: '))\n",
    "h = float(input('diem hoa: '))\n",
    "\n",
    "tl = diem_tb1(t,l)\n",
    "th = diem_tb1(t,h)\n",
    "tlh = diem_tb2(t,l,h)\n",
    "\n",
    "print('diem trung bình toán lý',tl)\n",
    "print('diem trung bình toán lý',th)\n",
    "print('diem trung bình toán lý',tlh)"
   ]
  },
  {
   "cell_type": "markdown",
   "id": "06eb5c4a",
   "metadata": {},
   "source": [
    "Viết hàm tính giai thừa của một số"
   ]
  },
  {
   "cell_type": "code",
   "execution_count": 19,
   "id": "7b91ddf0",
   "metadata": {},
   "outputs": [
    {
     "data": {
      "text/plain": [
       "24"
      ]
     },
     "execution_count": 19,
     "metadata": {},
     "output_type": "execute_result"
    }
   ],
   "source": [
    "def giaithua(n):\n",
    "    if (n == 0 or n == 1):\n",
    "        return 1\n",
    "    else:\n",
    "        return n*giaithua(n-1)\n",
    "giaithua(4)"
   ]
  },
  {
   "cell_type": "code",
   "execution_count": 49,
   "id": "10632327",
   "metadata": {},
   "outputs": [
    {
     "data": {
      "text/plain": [
       "6"
      ]
     },
     "execution_count": 49,
     "metadata": {},
     "output_type": "execute_result"
    }
   ],
   "source": [
    "def giaithua(n):\n",
    "    giaithua = 1\n",
    "    if n == 0:\n",
    "        return 1\n",
    "    for i in range(1,n+1):\n",
    "        giaithua *= i\n",
    "    return giaithua\n",
    "giaithua(3)"
   ]
  },
  {
   "cell_type": "markdown",
   "id": "50f43307",
   "metadata": {},
   "source": [
    "Viết hàm đếm số lượng từ của một chuỗi đưa vào"
   ]
  },
  {
   "cell_type": "code",
   "execution_count": 34,
   "id": "be785b29",
   "metadata": {},
   "outputs": [
    {
     "data": {
      "text/plain": [
       "6"
      ]
     },
     "execution_count": 34,
     "metadata": {},
     "output_type": "execute_result"
    }
   ],
   "source": [
    "def demtu(chuoi):\n",
    "    chuoi += \" \"\n",
    "    count = 0\n",
    "    chuoi_luu = \"\"\n",
    "    for i in chuoi:\n",
    "        if i != \" \":\n",
    "            chuoi_luu += i\n",
    "        else:\n",
    "            count += 1\n",
    "            chuoi_luu = \"\"\n",
    "    return count\n",
    "demtu(\"hoc lap trinh rat thu vi\")"
   ]
  },
  {
   "cell_type": "markdown",
   "id": "696aa7d2",
   "metadata": {},
   "source": [
    "Viết hàm có giá trị đầu vào là tên sản phẩm, giá một sản phẩm và số lượng sản phẩm, tính và trả về tổng giá tiền"
   ]
  },
  {
   "cell_type": "code",
   "execution_count": 40,
   "id": "da2213a2",
   "metadata": {},
   "outputs": [
    {
     "name": "stdout",
     "output_type": "stream",
     "text": [
      "Tên sản phẩm Bột giặt\n",
      "Giá:  150000\n",
      "Nhập số lượng cần mua:3\n",
      "Số tiền cần trả là  450000\n"
     ]
    }
   ],
   "source": [
    "def hanghoa(S,a):\n",
    "    print(\"Tên sản phẩm:\",S)\n",
    "    print(\"Giá: \",a)\n",
    "    l = int(input(\"Nhập số lượng cần mua:\"))\n",
    "    l = l * a\n",
    "    print(\"Số tiền cần trả là \",l)\n",
    "hanghoa(\"Bột giặt\",150000)"
   ]
  },
  {
   "cell_type": "markdown",
   "id": "acdf1356",
   "metadata": {},
   "source": [
    "Viết hàm lấy tên đệm\n",
    "\n",
    "Ví dụ: Nhập vào \"Nguyễn Tâm Điền\"\n",
    "\n",
    "Kết quả in ra là: \"Tâm\""
   ]
  },
  {
   "cell_type": "code",
   "execution_count": null,
   "id": "a5255f7a",
   "metadata": {},
   "outputs": [],
   "source": []
  },
  {
   "cell_type": "markdown",
   "id": "b4adef40",
   "metadata": {},
   "source": [
    "Viết một hàm vẽ hình tròn, một hàm vẽ hình vuông và một hàm vẽ hình tam giác đều (giá trị đầu vào là a)\n",
    "\n",
    "Tất cả hàm này, bắt đầu từ 1 vị trí, sau khi vẽ ra, con trỏ sẽ tiến tới vị trí tiếp theo, cách vì đầu một khoảng a + 10 theo chiều x từ trái sang"
   ]
  },
  {
   "cell_type": "code",
   "execution_count": null,
   "id": "e405d1d4",
   "metadata": {},
   "outputs": [],
   "source": []
  }
 ],
 "metadata": {
  "kernelspec": {
   "display_name": "Python 3 (ipykernel)",
   "language": "python",
   "name": "python3"
  },
  "language_info": {
   "codemirror_mode": {
    "name": "ipython",
    "version": 3
   },
   "file_extension": ".py",
   "mimetype": "text/x-python",
   "name": "python",
   "nbconvert_exporter": "python",
   "pygments_lexer": "ipython3",
   "version": "3.10.4"
  }
 },
 "nbformat": 4,
 "nbformat_minor": 5
}
