{
 "cells": [
  {
   "cell_type": "markdown",
   "id": "dcdb816e",
   "metadata": {},
   "source": [
    "# Thực hành cấu trúc điều khiển\n",
    "\n",
    "### Bài 1\n",
    "\n",
    "Cho phương trình bậc 2: ax^2 + bx + c = 0\n",
    "\n",
    "Nhập a, b, c\n",
    "\n",
    "Giải và biện luận phương trình trên"
   ]
  },
  {
   "cell_type": "code",
   "execution_count": 14,
   "id": "b5a5c325",
   "metadata": {},
   "outputs": [
    {
     "name": "stdout",
     "output_type": "stream",
     "text": [
      "Giải phương trình bậc 2: ax^2 + bx + c = 0\n",
      "Nhập a: 1\n",
      "Nhập b: 2\n",
      "Nhập c: 1\n",
      "Phương trình có 1 nghiệm x =  -1.0\n"
     ]
    }
   ],
   "source": [
    "import math\n",
    "\n",
    "print(\"Giải phương trình bậc 2: ax^2 + bx + c = 0\")\n",
    "a = float(input(\"Nhập a: \"))\n",
    "b = float(input(\"Nhập b: \"))\n",
    "c = float(input(\"Nhập c: \"))\n",
    "\n",
    "if a == 0:\n",
    "    if b == 0:\n",
    "        if c == 0:\n",
    "            print(\"Phương trình vô số nghiệm!\")\n",
    "        else:\n",
    "            print(\"Phương trình vô nghiệm!\")\n",
    "    else:\n",
    "        if c == 0:\n",
    "            print(\"Phương trình có 1 nghiệm x = 0\")\n",
    "        else:\n",
    "            print(\"Phương trình có 1 nghiệm x = \", -c / b)\n",
    "else:\n",
    "    delta = b ** 2 - 4 * a * c\n",
    "    if delta < 0:\n",
    "        print(\"Phương trình vô nghiệm!\")\n",
    "    elif delta == 0:\n",
    "        print(\"Phương trình có 1 nghiệm x = \", -b / (2 * a))\n",
    "    else:\n",
    "        print(\"Phương trình có 2 nghiệm phân biệt!\")\n",
    "        print(\"x1 = \", float((-b - sqrt(delta)) / (2 * a)))\n",
    "        print(\"x2 = \", float((-b + sqrt(delta)) / (2 * a)))"
   ]
  },
  {
   "cell_type": "markdown",
   "id": "6f7d329d",
   "metadata": {},
   "source": [
    "### Bài 2\n",
    "\n",
    "Hãy nhập vào một số\n",
    "\n",
    "Xác định coi đó có phải là số nguyên tố hay không"
   ]
  },
  {
   "cell_type": "code",
   "execution_count": 15,
   "id": "049c85f5",
   "metadata": {},
   "outputs": [
    {
     "name": "stdout",
     "output_type": "stream",
     "text": [
      "nha a:1\n",
      "là số nguyên tố\n"
     ]
    }
   ],
   "source": [
    "a = int(input(\"nha a:\"))\n",
    "if (a > 1):\n",
    "    kt = True\n",
    "    for i in range(2, a//2):\n",
    "        if (a % i) == 0:\n",
    "            print(\"Không là số nguyên tố\")\n",
    "            kt = False\n",
    "            break\n",
    "    if kt:\n",
    "        print(\"là số nguyên tố\")\n",
    "elif(a == 1):\n",
    "    print(\"là số nguyên tố\")\n",
    "else:\n",
    "    print('Hãy nhập vào một giá trị dương')"
   ]
  },
  {
   "cell_type": "code",
   "execution_count": 18,
   "id": "44481ad2",
   "metadata": {},
   "outputs": [
    {
     "name": "stdout",
     "output_type": "stream",
     "text": [
      "nha a:45\n",
      "Day khong la so nguyen to\n"
     ]
    }
   ],
   "source": [
    "a = int(input(\"nha a:\"))\n",
    "k = 1\n",
    "dem = 0\n",
    "for i in range(a):\n",
    "    if(a%k == 0):\n",
    "        dem += 1\n",
    "    k +=1\n",
    "if dem ==2:\n",
    "    print(\"day la so nguyen to\")\n",
    "else:\n",
    "    print(\"Day khong la so nguyen to\")"
   ]
  },
  {
   "cell_type": "markdown",
   "id": "75f7717b",
   "metadata": {},
   "source": [
    "### Bài 3\n",
    "\n",
    "Hãy nhập vào số n\n",
    "\n",
    "Hãy đếm số chữ số 0 tận cùng của n giai thừa\n",
    "\n",
    "(Bài này nâng cao, mọi người có thể bỏ qua)"
   ]
  },
  {
   "cell_type": "code",
   "execution_count": 27,
   "id": "789e0e76",
   "metadata": {},
   "outputs": [
    {
     "name": "stdout",
     "output_type": "stream",
     "text": [
      "nhap n:10\n",
      "2\n"
     ]
    }
   ],
   "source": [
    "n = int(input(\"nhap n:\"))\n",
    "so = 5\n",
    "dem = 0\n",
    "for i in range(n):\n",
    "    if n//so > 0:\n",
    "        dem += n//so\n",
    "    else:\n",
    "        break\n",
    "    so *= 5\n",
    "print(dem)"
   ]
  },
  {
   "cell_type": "markdown",
   "id": "29cd6c81",
   "metadata": {},
   "source": [
    "### Bài 4\n",
    "\n",
    "In ra tất cả các số chia hết cho 3 nhỏ hơn 100"
   ]
  },
  {
   "cell_type": "code",
   "execution_count": 22,
   "id": "0b848981",
   "metadata": {},
   "outputs": [
    {
     "name": "stdout",
     "output_type": "stream",
     "text": [
      "0\n",
      "3\n",
      "6\n",
      "9\n",
      "12\n",
      "15\n",
      "18\n",
      "21\n",
      "24\n",
      "27\n",
      "30\n",
      "33\n",
      "36\n",
      "39\n",
      "42\n",
      "45\n",
      "48\n",
      "51\n",
      "54\n",
      "57\n",
      "60\n",
      "63\n",
      "66\n",
      "69\n",
      "72\n",
      "75\n",
      "78\n",
      "81\n",
      "84\n",
      "87\n",
      "90\n",
      "93\n",
      "96\n",
      "99\n"
     ]
    }
   ],
   "source": [
    "for i in range(100):\n",
    "    if(i%3 == 0):\n",
    "        print(i)"
   ]
  },
  {
   "cell_type": "markdown",
   "id": "04dbf99b",
   "metadata": {},
   "source": [
    "### Bài 5\n",
    "\n",
    "In ra tất cả các số lẻ nhưng không chia hết cho 3 nhỏ hơn 100"
   ]
  },
  {
   "cell_type": "code",
   "execution_count": 29,
   "id": "769eb439",
   "metadata": {},
   "outputs": [
    {
     "name": "stdout",
     "output_type": "stream",
     "text": [
      "1\n",
      "5\n",
      "7\n",
      "11\n",
      "13\n",
      "17\n",
      "19\n",
      "23\n",
      "25\n",
      "29\n",
      "31\n",
      "35\n",
      "37\n",
      "41\n",
      "43\n",
      "47\n",
      "49\n",
      "53\n",
      "55\n",
      "59\n",
      "61\n",
      "65\n",
      "67\n",
      "71\n",
      "73\n",
      "77\n",
      "79\n",
      "83\n",
      "85\n",
      "89\n",
      "91\n",
      "95\n",
      "97\n"
     ]
    }
   ],
   "source": [
    "k = 1\n",
    "for i in range(50):\n",
    "    if (k%3 != 0):\n",
    "        print(k)\n",
    "    k += 2"
   ]
  },
  {
   "cell_type": "markdown",
   "id": "26dd47fb",
   "metadata": {},
   "source": [
    "### Bài 5\n",
    "\n",
    "Tại một cửa hàng nọ có menu như sau:\n",
    "\n",
    "1. Gà rán giá 35k\n",
    "2. Hamburger giá 50k\n",
    "3. Pesi giá 10k\n",
    "\n",
    "Nhập số lượng món hàng cần mua\n",
    "\n",
    "Tính và in ra tổng giá tiền (hiển thị có dấu chấm mỗi 3 chữ số để người dùng để quan sát)\n",
    "\n",
    "Nếu giá trị đơn hàng trên 2 triệu, giảm 10% cho khách, trên 4 triệu, giảm 15%\n",
    "\n",
    "Tính và in ra tổng giá tiền được giảm (hiển thị có dấu chấm mỗi 3 chữ số để người dùng để quan sát)\n",
    "\n",
    "Tính và in ra tổng giá tiền khách cần trả (hiển thị có dấu chấm mỗi 3 chữ số để người dùng để quan sát)\n",
    "\n",
    "In ra dòng chữ \"Cảm ơn quý khách đã mua hàng\""
   ]
  },
  {
   "cell_type": "code",
   "execution_count": 34,
   "id": "8509df1e",
   "metadata": {},
   "outputs": [
    {
     "name": "stdout",
     "output_type": "stream",
     "text": [
      "Gà: 11\n",
      "Hamburger: 34\n",
      "Pesi: 66\n",
      "274.500\n"
     ]
    }
   ],
   "source": [
    "print(\"1. Gà rán giá 35k\")\n",
    "print(\"2. Hamburger giá 50k\")\n",
    "print(\"3. Pesi giá 10k\")\n",
    "print()\n",
    "\n",
    "garan = int(input(\"Nhập số lượng gà rán: \"))\n",
    "hamburger = int(input(\"Nhập số lượng hamburger: \"))\n",
    "pepsi = int(input(\"Nhập số lượng pesi: \"))\n",
    "\n",
    "tong = garan*35000 + pepsi*10000 + hamburger*50000\n",
    "\n",
    "if 4000000 >= tong > 2000000:\n",
    "    tiengiam = int(tong*0.1)\n",
    "    tong = tong - tiengiam\n",
    "    \n",
    "elif tong>4000000:\n",
    "    tiengiam = int(tong*0.15)\n",
    "    tong = tong-tiengiam\n",
    "else:\n",
    "    tiengiam = 0\n",
    "\n",
    "tiengiam = str(tiengiam)\n",
    "sodaucham = (len(tiengiam) - 1)//3\n",
    "vt = len(tiengiam) - 3\n",
    "for i in range(sodaucham):\n",
    "    tiengiam = tiengiam[:vt] + \".\" + tiengiam[vt:]\n",
    "    vt -= 3\n",
    "    \n",
    "tong = str(tong)\n",
    "sodaucham = (len(tong) - 1)//3\n",
    "vt = len(tong) - 3\n",
    "for i in range(sodaucham):\n",
    "    tong = tong[:vt] + \".\" + tong[vt:]\n",
    "    vt -= 3\n",
    "    \n",
    "print()\n",
    "print(\"Số tiền được giảm giá là:\",tiengiam,\"VNĐ\")\n",
    "print(\"Số tiền cần thanh toán là:\",tong,\"VNĐ\")\n",
    "print()\n",
    "print(\"Cảm ơn quý khách đã mua hàng!\")"
   ]
  },
  {
   "cell_type": "markdown",
   "id": "ab10a1ce",
   "metadata": {},
   "source": [
    "### Bài 6\n",
    "\n",
    "Nhập vào chiều cao (cm) và cân nặng (kg), tính số BMI và xét rồi xin kết quả theo dữ liệu sau:\n",
    "\n",
    "- BMI < 16: Gầy cấp độ III\n",
    "- 16 <= BMI < 17:  Gầy cấp độ II\n",
    "- 17<= BMI < 18.5: Gầy cấp độ I\n",
    "- 18.5 <= BMI < 25: Bình thường\n",
    "- 25 <= BMI < 30: Thừa cân\n",
    "- 30 <= BMI < 35 : Béo phì cấp độ I\n",
    "- 35 <= BMI < 40: Béo phì cấp độ II\n",
    "- BMI > 40: Béo phì cấp độ III"
   ]
  },
  {
   "cell_type": "code",
   "execution_count": 1,
   "id": "1058f441",
   "metadata": {},
   "outputs": [
    {
     "name": "stdout",
     "output_type": "stream",
     "text": [
      "nhap chieu cao:1.67\n",
      "nhap can nang:62\n",
      "Bình thường\n"
     ]
    }
   ],
   "source": [
    "h = float(input(\"nhap chieu cao:\"))\n",
    "w = float(input(\"nhap can nang:\"))\n",
    "\n",
    "BMI = w/(h**2)\n",
    "\n",
    "if(BMI < 16): \n",
    "    print(\"Gầy cấp độ III\")\n",
    "elif(16 <= BMI < 17):  \n",
    "    print(\"Gầy cấp độ II\")\n",
    "elif(17<= BMI < 18.5): \n",
    "    print(\"Gầy cấp độ I\")\n",
    "elif(18.5 <= BMI < 25): \n",
    "    print(\"Bình thường\")\n",
    "elif(25 <= BMI < 30): \n",
    "    print(\"Thừa cân\")\n",
    "elif(30 <= BMI < 35): \n",
    "    print(\"Béo phì cấp độ I\")\n",
    "elif(35 <= BMI < 40): \n",
    "    print(\"Béo phì cấp độ II\")\n",
    "else: \n",
    "    print(\"Béo phì cấp độ III\")\n"
   ]
  },
  {
   "cell_type": "markdown",
   "id": "f7620342",
   "metadata": {},
   "source": [
    "### Bài 7\n",
    "\n",
    "Nhập ngày, tháng, năm. Hãy tính và in ra màn hình kể từ đầu năm đến ngày vừa nhập là bao nhiêu ngày."
   ]
  },
  {
   "cell_type": "code",
   "execution_count": null,
   "id": "4c57f0a5",
   "metadata": {},
   "outputs": [],
   "source": []
  }
 ],
 "metadata": {
  "kernelspec": {
   "display_name": "Python 3 (ipykernel)",
   "language": "python",
   "name": "python3"
  },
  "language_info": {
   "codemirror_mode": {
    "name": "ipython",
    "version": 3
   },
   "file_extension": ".py",
   "mimetype": "text/x-python",
   "name": "python",
   "nbconvert_exporter": "python",
   "pygments_lexer": "ipython3",
   "version": "3.10.4"
  }
 },
 "nbformat": 4,
 "nbformat_minor": 5
}
