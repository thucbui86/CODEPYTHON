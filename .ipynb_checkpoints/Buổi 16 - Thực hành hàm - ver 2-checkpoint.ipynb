{
 "cells": [
  {
   "cell_type": "markdown",
   "id": "028ffec3",
   "metadata": {},
   "source": [
    "# Thực hành hàm\n",
    "\n",
    "### Bài 1\n",
    "\n",
    "Viết hàm có dữ liệu đầu vào là 2 số a và b, số nào lớn hơn thì in bảng cửu chương của số đó"
   ]
  },
  {
   "cell_type": "code",
   "execution_count": 5,
   "id": "1974966b",
   "metadata": {},
   "outputs": [
    {
     "name": "stdout",
     "output_type": "stream",
     "text": [
      "11 x 1 = 11\n",
      "11 x 2 = 22\n",
      "11 x 3 = 33\n",
      "11 x 4 = 44\n",
      "11 x 5 = 55\n",
      "11 x 6 = 66\n",
      "11 x 7 = 77\n",
      "11 x 8 = 88\n",
      "11 x 9 = 99\n",
      "11 x 10 = 110\n"
     ]
    }
   ],
   "source": [
    "def cuuchuongMax(a,b):\n",
    "    Max = a\n",
    "    if Max < b:\n",
    "        Max = b\n",
    "    for i in range(1, 11):\n",
    "        print(Max, \"x\", i, \"=\", Max*i)\n",
    "cuuchuongMax(4,11)"
   ]
  },
  {
   "cell_type": "markdown",
   "id": "9de8ffaa",
   "metadata": {},
   "source": [
    "### Bài 2\n",
    "\n",
    "Viết hàm `xoachuoi` có dữ liệu đầu vào là 2 chuỗi a và b, hãy tìm trong chuỗi a có chuỗi b hay không, nếu có hãy xóa toán bộ chuỗi b trong a.\n",
    "\n",
    "Sau đó trả về chuỗi a mới\n",
    "\n",
    "Ví dụ:\n",
    "\n",
    "chuoi1 = \"xin chào các bạn, các bạn có khỏe không?\"\n",
    "\n",
    "chuoi2 = \"các bạn\"\n",
    "\n",
    "chuoi3 = xoachuoi(chuoi1,chuoi2)\n",
    "\n",
    "print(chuoi3)\n",
    "\n",
    "Kết quả in ra là:\n",
    "xin chào ,  có khỏe không"
   ]
  },
  {
   "cell_type": "code",
   "execution_count": 20,
   "id": "05de1584",
   "metadata": {},
   "outputs": [
    {
     "name": "stdout",
     "output_type": "stream",
     "text": [
      "nhap chuoi a:\n",
      "  @media print {\n",
      "    .ms-editor-squiggles-container {\n",
      "      display:none !important;\n",
      "    }\n",
      "  }\n",
      "  .ms-editor-squiggles-container {\n",
      "    all: initial;\n",
      "  }bui xuan thuc\n",
      "nhap chuoi b:\n",
      "  @media print {\n",
      "    .ms-editor-squiggles-container {\n",
      "      display:none !important;\n",
      "    }\n",
      "  }\n",
      "  .ms-editor-squiggles-container {\n",
      "    all: initial;\n",
      "  }nguoi vi dai la bui xuan thuc\n",
      "nguoi vi dai la \n"
     ]
    }
   ],
   "source": [
    "a = input(\"nhap chuoi a:\")\n",
    "b = input(\"nhap chuoi b:\")\n",
    "def xoachuoi(a, b):\n",
    "    if b in a:\n",
    "        a = a.replace(b,\"\")\n",
    "        return a\n",
    "    elif a in b:\n",
    "        b = b.replace(a, \"\")\n",
    "        return b\n",
    "c = xoachuoi(a,b)\n",
    "print(c)"
   ]
  },
  {
   "cell_type": "code",
   "execution_count": 2,
   "id": "6fb6b50b",
   "metadata": {},
   "outputs": [
    {
     "data": {
      "text/plain": [
       "'xin chào , có khoẻ không'"
      ]
     },
     "execution_count": 2,
     "metadata": {},
     "output_type": "execute_result"
    }
   ],
   "source": [
    "def xoachuoi(a,b):\n",
    "    c = \"\"\n",
    "    k = 0\n",
    "    d = len(b)\n",
    "    \n",
    "#     for i in range(len(a)):\n",
    "#         if a[i:i+d] == b:\n",
    "#                 c = c + \"\"\n",
    "#                 k = k + d\n",
    "#         if i < k:\n",
    "#             continue\n",
    "#         c += a[i]\n",
    "#         k += 1\n",
    "\n",
    "    i = 0\n",
    "    while i < len(a):\n",
    "        if a[i:i+d] == b:\n",
    "            i += d\n",
    "            continue\n",
    "        c += a[i]\n",
    "        i += 1\n",
    "    return c\n",
    "xoachuoi(\"xin chào các bạn,các bạn có khoẻ không\",\"các bạn\")"
   ]
  },
  {
   "cell_type": "markdown",
   "id": "d626394e",
   "metadata": {},
   "source": [
    "### Bài 3\n",
    "\n",
    "Viết hàm `kiemtramatkhau` với dữ liệu đầu vào là 1 chuỗi có công dụng như sau:\n",
    "\n",
    "Kiểm tra xem chuỗi đầu vào có phải là mật khẩu mạnh hay không, nếu có trả về True, nếu không trả về False\n",
    "\n",
    "Mật khẩu mạnh là mật khẩu phải có ít nhất 1 chữ hoa, 1 chữ thường, 1 số và 1 ký tự đặc biệt"
   ]
  },
  {
   "cell_type": "code",
   "execution_count": 12,
   "id": "48214f3b",
   "metadata": {},
   "outputs": [
    {
     "data": {
      "text/plain": [
       "True"
      ]
     },
     "execution_count": 12,
     "metadata": {},
     "output_type": "execute_result"
    }
   ],
   "source": [
    "def kiemtramatkhau(matkhau):\n",
    "    upper = False\n",
    "    lower = False\n",
    "    number = False\n",
    "    special = False\n",
    "    for i in matkhau:\n",
    "        if i.isupper():\n",
    "            upper = True\n",
    "        if i.islower():\n",
    "            lower = True\n",
    "        if i.isnumeric():\n",
    "            number = True\n",
    "        else:\n",
    "            special = True\n",
    "    return (upper and lower and number and special)\n",
    "kiemtramatkhau(\"Thucbui86@gmail\")"
   ]
  },
  {
   "cell_type": "markdown",
   "id": "1572568f",
   "metadata": {},
   "source": [
    "### Bài 4\n",
    "\n",
    "Viết hàm có 5 dữ liệu đầu vào là 5 số nguyên, tìm giá trị lớn nhì trong 5 số đó"
   ]
  },
  {
   "cell_type": "code",
   "execution_count": 25,
   "id": "876707ae",
   "metadata": {},
   "outputs": [
    {
     "name": "stdout",
     "output_type": "stream",
     "text": [
      "23\n"
     ]
    }
   ],
   "source": [
    "def thunhi(a,b,c,d,e):\n",
    "    nhat = a\n",
    "    nhi = b\n",
    "    if b > a:\n",
    "        nhat = b\n",
    "        nhi = a\n",
    "    if c > nhat:\n",
    "        nhi = nhat\n",
    "        nhat = c\n",
    "    elif c > nhi:\n",
    "        nhi = c\n",
    "    if d > nhat:\n",
    "        nhi = nhat\n",
    "        nhat = d\n",
    "    elif d > nhi:\n",
    "        nhi = d\n",
    "    if e > nhat:\n",
    "        nhi = nhat\n",
    "        nhat = e\n",
    "    elif e > nhi:\n",
    "        nhi = e\n",
    "    return nhi\n",
    "print(thunhi(1,34,5,6,23))"
   ]
  },
  {
   "cell_type": "markdown",
   "id": "974d7da1",
   "metadata": {},
   "source": [
    "### Bài 5\n",
    "\n",
    "Nhập vào 2 cặp tọa độ tâm đường tròn và 2 bán kính R\n",
    "\n",
    "Hãy vẽ 2 hình tròn theo tọa độ và bán kính trên (tọa độ thứ nhất và bán kính thứ nhất là hình tròn thứ nhất, tọa độ thứ 2 với bán kính thứ 2 là hình tròn thứ hai)\n",
    "\n",
    "Viết hàm kiểm tra xem 2 hình tròn trên cắt nhau bao nhiêu điểm"
   ]
  },
  {
   "cell_type": "code",
   "execution_count": 1,
   "id": "f7722021",
   "metadata": {},
   "outputs": [
    {
     "name": "stdout",
     "output_type": "stream",
     "text": [
      "Nhập tọa độ x1:2\n",
      "Nhập tọa độ y1:5\n",
      "Nhập tọa độ x2:7\n",
      "Nhập tọa độ y2:4\n",
      "Nhập bán kính r1:100\n",
      "Nhập bán kính r2:50\n",
      "0\n"
     ]
    }
   ],
   "source": [
    "x1 = int(input(\"Nhập tọa độ x1:\"))\n",
    "y1 = int(input(\"Nhập tọa độ y1:\"))\n",
    "\n",
    "x2 = int(input(\"Nhập tọa độ x2:\"))\n",
    "y2 = int(input(\"Nhập tọa độ y2:\"))\n",
    "\n",
    "r1 = int(input(\"Nhập bán kính r1:\"))\n",
    "r2 = int(input(\"Nhập bán kính r2:\"))\n",
    "\n",
    "import turtle\n",
    "\n",
    "t = turtle.Turtle()\n",
    "\n",
    "t.penup()\n",
    "t.goto(x1,y1-r1)\n",
    "t.pendown()\n",
    "t.circle(r1)\n",
    "\n",
    "t.penup()\n",
    "t.goto(x2,y2-r2)\n",
    "t.pendown()\n",
    "t.circle(r2)\n",
    "\n",
    "def xethinhtron(x1,y1,r1,x2,y2,r2):\n",
    "    if (x1 == x2) and (y1 == y2):\n",
    "        if (r1 == r2):\n",
    "            return -1\n",
    "        else:\n",
    "            return 0\n",
    "    else:\n",
    "        kc2diem = ((x1 - x2)**2 + (y1 - y2)**2)**(1/2)\n",
    "        if (kc2diem > r1 + r2):\n",
    "            return 0\n",
    "        elif (kc2diem == r1 + r2):\n",
    "            return 1\n",
    "        else:\n",
    "            if (kc2diem == abs(r1 - r2)):\n",
    "                return 1\n",
    "            elif (kc2diem < abs(r1 - r2)):\n",
    "                return 0\n",
    "            else:\n",
    "                return 2\n",
    "\n",
    "print(xethinhtron(x1,y1,r1,x2,y2,r2))"
   ]
  },
  {
   "cell_type": "markdown",
   "id": "a2157de8",
   "metadata": {},
   "source": [
    "### Bài 6\n",
    "\n",
    "Nhập vào 2 tọa độ là 2 đỉnh của một hình chữ nhật\n",
    "\n",
    "Sau đó\n",
    "\n",
    "Nhập vào tọa độ tâm đường tròn và bán kính R\n",
    "\n",
    "Hãy vẽ hình hình chữ nhật và đường tròn trên\n",
    "\n",
    "Viết hàm kiểm tra xem đường tròn trên và hình chữ nhật cắt nhau tại bao nhiêu điểm"
   ]
  },
  {
   "cell_type": "code",
   "execution_count": null,
   "id": "e0d7b1a2",
   "metadata": {},
   "outputs": [],
   "source": []
  },
  {
   "cell_type": "markdown",
   "id": "d1491579",
   "metadata": {},
   "source": [
    "### Bài 7\n",
    "\n",
    "Viết hàm kiểm tra số nguyên tố\n",
    "\n",
    "Viết hàm kiểm tra số hoàn hảo\n",
    "\n",
    "Viết hàm kiểm tra số chính phương\n",
    "\n",
    "Viết hàm kiểm tra số Armstrong\n",
    "\n",
    "Nhập vào một chuỗi, hãy lọc và tìm ra những số ở trong chuỗi (2 chữ số liền nhau là một số)\n",
    "\n",
    "Ví dụ chuỗi: \"AB25SDc5DSjjh52\"\n",
    "\n",
    "Trong chuỗi này ta có 3 số: 25, 5 và 52\n",
    "\n",
    "Sau khi lọc số, dùng các hàm trên để kiểm tra và thực hiện như sau:\n",
    "\n",
    "Cho biến S\n",
    "\n",
    "- Nếu số đó là số nguyên tố, ta thực hiện S += số đó\n",
    "- Nếu số đó là số hoàn hảo, ta thực hiện S -= số đó\n",
    "- Nếu số đó là số chính phương, ta thực hiện S /= số đó\n",
    "- Nếu đó là số Armstrong ta cho S = 0\n",
    "\n",
    "Hãy tính và in S"
   ]
  },
  {
   "cell_type": "code",
   "execution_count": 23,
   "id": "0b699e33",
   "metadata": {},
   "outputs": [
    {
     "name": "stdout",
     "output_type": "stream",
     "text": [
      "nhap chuoi:36dfadfd6dfdf153fdfd3\n",
      "150.0\n"
     ]
    }
   ],
   "source": [
    "def check_soNT(n):\n",
    "    flag = True\n",
    "    if(n<2):\n",
    "        flag = False\n",
    "    elif(n == 2):\n",
    "        flag = True\n",
    "    else:\n",
    "        for i in range(3, (n//2) +1):\n",
    "            if(n%i == 0):\n",
    "                flag = False\n",
    "            else: \n",
    "                flag = True\n",
    "    return flag\n",
    "\n",
    "def check_soHH(x):\n",
    "    flag = True\n",
    "    tong = 0\n",
    "    for i in range(1, x):\n",
    "        if (x % i) == 0:\n",
    "            tong += i\n",
    "    if tong == x:\n",
    "        flag = True\n",
    "    else:\n",
    "        flag = False\n",
    "    return flag\n",
    "\n",
    "def check_soCP(x):\n",
    "    flag = True\n",
    "    if((int(x**0.5)**2) == x):\n",
    "        flag = True\n",
    "    else:\n",
    "        flag = False\n",
    "    return flag\n",
    "\n",
    "def check_soAmstrong(x):\n",
    "    flag = True\n",
    "    b = str(x)\n",
    "    c = x\n",
    "    sum = 0\n",
    "    while x > 0:\n",
    "        k = x % 10\n",
    "        sum += k**len(b)\n",
    "        x //= 10\n",
    "    if(sum == c):\n",
    "        flag = True\n",
    "    else:\n",
    "        flag = False\n",
    "    return flag\n",
    "\n",
    "#fdfd33dfd4dfdf12\n",
    "chuoi = input(\"nhap chuoi:\")\n",
    "S = 0\n",
    "chuoi += \"a\"\n",
    "luutru = \"\"\n",
    "for i in chuoi:\n",
    "    if i.isnumeric():\n",
    "        luutru += i\n",
    "    else:\n",
    "        if luutru != \"\":\n",
    "            luutru = int(luutru)\n",
    "            if check_soNT(luutru):\n",
    "                S += luutru\n",
    "            elif check_soHH(luutru):\n",
    "                S -= luutru\n",
    "            elif check_soCP(luutru):\n",
    "                S /= luutru\n",
    "            elif check_soAmstrong(luutru):\n",
    "                S = 0\n",
    "            luutru = \"\"\n",
    "print(S)"
   ]
  },
  {
   "cell_type": "code",
   "execution_count": null,
   "id": "6692e9fc",
   "metadata": {},
   "outputs": [],
   "source": [
    "# kiem tra So chinh phuong\n",
    "def sochinhphuong(a):\n",
    "    return a**0.5 % 1 == 0"
   ]
  }
 ],
 "metadata": {
  "kernelspec": {
   "display_name": "Python 3 (ipykernel)",
   "language": "python",
   "name": "python3"
  },
  "language_info": {
   "codemirror_mode": {
    "name": "ipython",
    "version": 3
   },
   "file_extension": ".py",
   "mimetype": "text/x-python",
   "name": "python",
   "nbconvert_exporter": "python",
   "pygments_lexer": "ipython3",
   "version": "3.10.4"
  }
 },
 "nbformat": 4,
 "nbformat_minor": 5
}
