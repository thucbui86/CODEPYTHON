{
 "cells": [
  {
   "cell_type": "code",
   "execution_count": 1,
   "id": "15ae0f79",
   "metadata": {},
   "outputs": [
    {
     "name": "stdout",
     "output_type": "stream",
     "text": [
      "clicked at 173 24\n",
      "clicked at 159 74\n",
      "clicked at 242 94\n",
      "clicked at 284 17\n",
      "clicked at 18 3\n"
     ]
    }
   ],
   "source": [
    "from tkinter import *\n",
    "\n",
    "window = Tk()\n",
    "window.geometry(\"400x250\")\n",
    "window.title(\"Click Event\")\n",
    "\n",
    "def callback(event):\n",
    "    print(\"clicked at\", event.x, event.y)\n",
    "\n",
    "frame = Frame(window, width=400, height=250)\n",
    "frame.bind(\"<Button-1>\", callback)\n",
    "frame.pack()\n",
    "\n",
    "window.mainloop()"
   ]
  },
  {
   "cell_type": "code",
   "execution_count": 2,
   "id": "0e5ca55c",
   "metadata": {},
   "outputs": [],
   "source": [
    "import tkinter as tk\n",
    "from tkinter import ttk\n",
    "\n",
    "def return_pressed(event):\n",
    "    print('Return key pressed.')\n",
    "\n",
    "root = tk.Tk()\n",
    "\n",
    "btn = ttk.Button(root, text='Save')\n",
    "btn.bind('<Return>', return_pressed)\n",
    "\n",
    "btn.focus()\n",
    "btn.pack(expand=True)\n",
    "\n",
    "root.mainloop()"
   ]
  },
  {
   "cell_type": "code",
   "execution_count": 3,
   "id": "06d0bedf",
   "metadata": {},
   "outputs": [],
   "source": [
    "import tkinter as tk\n",
    "from tkinter import ttk\n",
    "\n",
    "def return_pressed(event):\n",
    "    print('Return key pressed.')\n",
    "\n",
    "def log(event):\n",
    "    print(event)\n",
    "\n",
    "root = tk.Tk()\n",
    "\n",
    "btn = ttk.Button(root, text='Save')\n",
    "btn.bind('<Return>', return_pressed)\n",
    "btn.bind('<Return>', log, add='+')\n",
    "\n",
    "btn.focus()\n",
    "btn.pack(expand=True)\n",
    "\n",
    "root.mainloop()"
   ]
  },
  {
   "cell_type": "code",
   "execution_count": 4,
   "id": "ce02970b",
   "metadata": {},
   "outputs": [],
   "source": [
    "from tkinter import *\n",
    "\n",
    "def fahrenheit_to_celsius():\n",
    "    fahrenheit = ent_temperature_fahrenheit.get()\n",
    "    celsius = 5/9 * (float(fahrenheit) - 32)\n",
    "    lbl_result_celsius[\"text\"] = f\"{round(celsius, 2)} \\N{DEGREE CELSIUS}\"\n",
    "\n",
    "def celsius_to_fahrenheit ():\n",
    "    celsius = ent_temperature_celsius.get()\n",
    "    fahrenheit = 9/5 * float(celsius) + 32\n",
    "    lbl_result_fahrenheit[\"text\"] = f\"{round(fahrenheit, 2)} \\N{DEGREE FAHRENHEIT}\"\n",
    "\n",
    "\n",
    "window = Tk()\n",
    "window.title(\"Temperature Converter\")\n",
    "window.resizable(width=False, height=False)\n",
    "\n",
    "frm_entry_fahrenheit = Frame(master=window)\n",
    "ent_temperature_fahrenheit = Entry(master=frm_entry_fahrenheit, width=10)\n",
    "lbl_temp_fahrenheit = Label(master=frm_entry_fahrenheit, text=\"\\N{DEGREE FAHRENHEIT}\")\n",
    "\n",
    "ent_temperature_fahrenheit.grid(row=0, column=0, sticky=\"e\")\n",
    "lbl_temp_fahrenheit.grid(row=0, column=1, sticky=\"w\")\n",
    "\n",
    "btn_convert_fahrenheit = Button(\n",
    "    master=window,\n",
    "    text=\"\\N{RIGHTWARDS BLACK ARROW}\",\n",
    "    command=fahrenheit_to_celsius\n",
    ")\n",
    "\n",
    "lbl_result_celsius = Label(master=window, text=\"\\N{DEGREE CELSIUS}\")\n",
    "\n",
    "frm_entry_fahrenheit.grid(row=0, column=0, padx=10)\n",
    "btn_convert_fahrenheit.grid(row=0, column=1, pady=10)\n",
    "lbl_result_celsius.grid(row=0, column=2, padx=10)\n",
    "\n",
    "\n",
    "frm_entry_celsius = Frame(master=window)\n",
    "ent_temperature_celsius = Entry(master=frm_entry_celsius, width=10)\n",
    "lbl_temp_celsius = Label(master=frm_entry_celsius, text=\"\\N{DEGREE CELSIUS}\")\n",
    "\n",
    "ent_temperature_celsius.grid(row=0, column=0, sticky=\"e\")\n",
    "lbl_temp_celsius.grid(row=0, column=1, sticky=\"w\")\n",
    "\n",
    "btn_convert_celsius = Button(\n",
    "    master=window,\n",
    "    text=\"\\N{RIGHTWARDS BLACK ARROW}\",\n",
    "    command=celsius_to_fahrenheit\n",
    ")\n",
    "\n",
    "lbl_result_fahrenheit = Label(master=window, text=\"\\N{DEGREE FAHRENHEIT}\")\n",
    "\n",
    "frm_entry_celsius.grid(row=1, column=0, padx=10)\n",
    "btn_convert_celsius.grid(row=1, column=1, pady=10)\n",
    "lbl_result_fahrenheit.grid(row=1, column=2, padx=10)\n",
    "\n",
    "\n",
    "\n",
    "window.mainloop()"
   ]
  },
  {
   "cell_type": "code",
   "execution_count": null,
   "id": "0949e3d5",
   "metadata": {},
   "outputs": [],
   "source": []
  }
 ],
 "metadata": {
  "kernelspec": {
   "display_name": "Python 3 (ipykernel)",
   "language": "python",
   "name": "python3"
  },
  "language_info": {
   "codemirror_mode": {
    "name": "ipython",
    "version": 3
   },
   "file_extension": ".py",
   "mimetype": "text/x-python",
   "name": "python",
   "nbconvert_exporter": "python",
   "pygments_lexer": "ipython3",
   "version": "3.10.4"
  }
 },
 "nbformat": 4,
 "nbformat_minor": 5
}
