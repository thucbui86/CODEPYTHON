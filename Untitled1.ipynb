{
 "cells": [
  {
   "cell_type": "code",
   "execution_count": 6,
   "id": "73ea7b59",
   "metadata": {},
   "outputs": [
    {
     "name": "stdout",
     "output_type": "stream",
     "text": [
      "Jim\n",
      "Van Loon\n",
      "Loon\n"
     ]
    }
   ],
   "source": [
    "def get_first_name(fullname):\n",
    "    firstname = ''\n",
    "    try:\n",
    "        firstname = fullname.split()[0] \n",
    "    except Exception as e:\n",
    "        print(str(e))\n",
    "    return firstname\n",
    "\n",
    "def get_last_name(fullname):\n",
    "    lastname = ''\n",
    "    try:\n",
    "        index=0\n",
    "        for part in fullname.split():\n",
    "            if index > 0:\n",
    "                if index > 1:\n",
    "                    lastname += ' ' \n",
    "                lastname +=  part\n",
    "            index += 1\n",
    "    except Exception as e:\n",
    "            print(str(e))\n",
    "    return lastname\n",
    "\n",
    "def get_last_word(string):\n",
    "    return string.split()[-1]\n",
    "\n",
    "print(get_first_name('Jim Van Loon'))\n",
    "print(get_last_name('Jim Van Loon'))\n",
    "print(get_last_word('Jim Van Loon'))"
   ]
  },
  {
   "cell_type": "code",
   "execution_count": 7,
   "id": "e289a21b",
   "metadata": {},
   "outputs": [
    {
     "name": "stdout",
     "output_type": "stream",
     "text": [
      "Nhap vao so phan tu cua danh sach: 6\n",
      "Nhap vao danh sach:\n",
      "\tPhan tu thu 1 la: 2\n",
      "\tPhan tu thu 2 la: 4\n",
      "\tPhan tu thu 3 la: 2\n",
      "\tPhan tu thu 4 la: 5\n",
      "\tPhan tu thu 5 la: 4\n",
      "\tPhan tu thu 6 la: 5\n",
      "Danh sach vua nhap la:\n",
      "\t 2\t 4\t 2\t 5\t 4\t 5\n",
      "Phan tu lon thu hai trong danh sach tren la: 4\n"
     ]
    }
   ],
   "source": [
    "# kiem tra so lon nhi\n",
    "# Ho ten: Hoang Van Tuan\n",
    "# Website: timoday.edu.vn\n",
    "\n",
    "# Xay dung ham\n",
    "def Find_max_second(a):\n",
    "    max_1 = max(a[0], a[1])\n",
    "    max_2 = min(a[0], a[1])\n",
    "\n",
    "    for i in range(2, len(a)):\n",
    "        if a[i] > max_1:\n",
    "            max_2 = max_1\n",
    "            max_1 = a[i]\n",
    "        elif (a[i] > max_2) and (max_1 != a[i]):\n",
    "            max_2 = a[i]\n",
    "\n",
    "    return max_2\n",
    "\n",
    "\n",
    "# Nhap du lieu\n",
    "n = int(input(\"Nhap vao so phan tu cua danh sach: \"))\n",
    "print(\"Nhap vao danh sach:\")\n",
    "a = []\n",
    "for i in range(n):\n",
    "    print(\"\\tPhan tu thu\", i+1,\"la:\", end=\" \")\n",
    "    a.append(int(input()))\n",
    "\n",
    "print(\"Danh sach vua nhap la:\")\n",
    "for i in range(n):\n",
    "    print(\"\\t\", a[i], end=\"\")\n",
    "\n",
    "print(\"\\nPhan tu lon thu hai trong danh sach tren la:\", Find_max_second(a))"
   ]
  },
  {
   "cell_type": "code",
   "execution_count": 8,
   "id": "e017005f",
   "metadata": {},
   "outputs": [
    {
     "data": {
      "text/plain": [
       "2"
      ]
     },
     "execution_count": 8,
     "metadata": {},
     "output_type": "execute_result"
    }
   ],
   "source": [
    "min(2,5)"
   ]
  }
 ],
 "metadata": {
  "kernelspec": {
   "display_name": "Python 3 (ipykernel)",
   "language": "python",
   "name": "python3"
  },
  "language_info": {
   "codemirror_mode": {
    "name": "ipython",
    "version": 3
   },
   "file_extension": ".py",
   "mimetype": "text/x-python",
   "name": "python",
   "nbconvert_exporter": "python",
   "pygments_lexer": "ipython3",
   "version": "3.10.4"
  }
 },
 "nbformat": 4,
 "nbformat_minor": 5
}
