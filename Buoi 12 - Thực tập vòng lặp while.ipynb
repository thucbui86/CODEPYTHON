{
 "cells": [
  {
   "cell_type": "markdown",
   "id": "1f7be993",
   "metadata": {},
   "source": [
    "# Thực tập vòng lặp While\n",
    "\n",
    "### Bài 1\n",
    "\n",
    "Nhập vào số a, sử dụng lệnh while (không sử dụng break và for) để xác định xem số đó có phải là số nguyên tố hay không"
   ]
  },
  {
   "cell_type": "code",
   "execution_count": 33,
   "id": "8cb73965",
   "metadata": {},
   "outputs": [
    {
     "name": "stdout",
     "output_type": "stream",
     "text": [
      "2\n",
      "2 là số nguyên tố\n"
     ]
    }
   ],
   "source": [
    "a = int(input())\n",
    "k = 1\n",
    "count = 0\n",
    "while k <= a//2:\n",
    "    if(a % k == 0):\n",
    "        count += 1\n",
    "    k += 1\n",
    "if(count == 1):\n",
    "    print(a,\"là số nguyên tố\")\n",
    "else:\n",
    "    print(a,\"không là số nguyên tố\")"
   ]
  },
  {
   "cell_type": "code",
   "execution_count": 35,
   "id": "dc8430fe",
   "metadata": {},
   "outputs": [
    {
     "name": "stdout",
     "output_type": "stream",
     "text": [
      "9\n",
      "Day khong la so nguyen to\n"
     ]
    }
   ],
   "source": [
    "a = int(input())\n",
    "i = 2\n",
    "flag = True\n",
    "while i < a and flag:\n",
    "    if a % i:\n",
    "        flag = False\n",
    "    i += 1\n",
    "if flag:\n",
    "    print(\"Day la so nguyen to\")\n",
    "else:\n",
    "    print(\"Day khong la so nguyen to\")"
   ]
  },
  {
   "cell_type": "markdown",
   "id": "9f2357ca",
   "metadata": {},
   "source": [
    "### Bài 2\n",
    "\n",
    "Hãy sử dụng lệnh while lập trình cho bài đoán số ở buổi thứ 9"
   ]
  },
  {
   "cell_type": "code",
   "execution_count": null,
   "id": "db79cb9d",
   "metadata": {},
   "outputs": [],
   "source": []
  },
  {
   "cell_type": "markdown",
   "id": "58f5b789",
   "metadata": {},
   "source": [
    "### Bài 3\n",
    "\n",
    "Nhập vào số a, hãy đếm a có bao nhiêu chữ số chẵn, bao nhiêu cữ số lẻ\n",
    "\n",
    "#### Cách 1 (dùng chuỗi):"
   ]
  },
  {
   "cell_type": "code",
   "execution_count": 24,
   "id": "e7f9da21",
   "metadata": {},
   "outputs": [
    {
     "name": "stdout",
     "output_type": "stream",
     "text": [
      "359\n",
      "Số chữ số chẵn trong a: 0\n",
      "Số chữ số lẻ trong a: 3\n"
     ]
    }
   ],
   "source": [
    "a = int(input())\n",
    "a = str(a)\n",
    "k = 0\n",
    "count_even = 0\n",
    "count_odd = 0\n",
    "while k < len(a):\n",
    "    if(int(a[k]) % 2 == 0):\n",
    "        count_even += 1\n",
    "    else:\n",
    "        count_odd += 1\n",
    "    k += 1\n",
    "print(\"Số chữ số chẵn trong a:\",count_even)\n",
    "print(\"Số chữ số lẻ trong a:\",count_odd)"
   ]
  },
  {
   "cell_type": "markdown",
   "id": "9a3d9703",
   "metadata": {},
   "source": [
    "#### Cách 2 (không dùng chuỗi):"
   ]
  },
  {
   "cell_type": "code",
   "execution_count": 25,
   "id": "d4e474c8",
   "metadata": {},
   "outputs": [
    {
     "name": "stdout",
     "output_type": "stream",
     "text": [
      "359\n",
      "Số chữ số chẵn trong a: 0\n",
      "Số chữ số lẻ trong a: 3\n"
     ]
    }
   ],
   "source": [
    "a = int(input())\n",
    "count_even = 0\n",
    "count_odd = 0\n",
    "while a > 0:\n",
    "    k = a % 10\n",
    "    if k % 2 == 0:\n",
    "        count_even += 1\n",
    "    else:\n",
    "        count_odd += 1\n",
    "    a //= 10\n",
    "print(\"Số chữ số chẵn trong a:\",count_even)\n",
    "print(\"Số chữ số lẻ trong a:\",count_odd)"
   ]
  },
  {
   "cell_type": "markdown",
   "id": "69539ece",
   "metadata": {},
   "source": [
    "### Bài 4\n",
    "\n",
    "Nhập vào số a, hãy tính tổng các chữ số nguyên tố của a"
   ]
  },
  {
   "cell_type": "code",
   "execution_count": 35,
   "id": "f001bd9a",
   "metadata": {},
   "outputs": [
    {
     "name": "stdout",
     "output_type": "stream",
     "text": [
      "12357\n",
      "Tổng các chữ số nguyên tố có trong a: 17\n"
     ]
    }
   ],
   "source": [
    "a = int(input())\n",
    "\n",
    "sum_prime = 0\n",
    "while a > 0:\n",
    "    k = a % 10\n",
    "    i = 1\n",
    "    count_prime = 0 \n",
    "    while i <= k//2:\n",
    "        if(k % i == 0):\n",
    "            count_prime += 1\n",
    "        i += 1\n",
    "    if(count_prime == 1):\n",
    "        sum_prime += k\n",
    "    a //= 10\n",
    "\n",
    "print(\"Tổng các chữ số nguyên tố có trong a:\",sum_prime)        "
   ]
  },
  {
   "cell_type": "code",
   "execution_count": 39,
   "id": "ba3c5cf0",
   "metadata": {},
   "outputs": [
    {
     "name": "stdout",
     "output_type": "stream",
     "text": [
      "12357\n",
      "Tổng các chữ số nguyên tố có trong a: 17\n"
     ]
    }
   ],
   "source": [
    "a = int(input())\n",
    "\n",
    "a = str(a)\n",
    "k = 0\n",
    "sum_prime = 0\n",
    "\n",
    "while k < len(a):\n",
    "    i = 1\n",
    "    count_prime = 0\n",
    "    while i <= (int(a[k])//2):\n",
    "        if (int(a[k]) % i == 0):\n",
    "            count_prime += 1\n",
    "        i += 1\n",
    "    if (count_prime == 1):\n",
    "        sum_prime += int(a[k])\n",
    "    k += 1\n",
    "print(\"Tổng các chữ số nguyên tố có trong a:\",sum_prime)    "
   ]
  },
  {
   "cell_type": "code",
   "execution_count": null,
   "id": "3fbf760d",
   "metadata": {},
   "outputs": [],
   "source": [
    "a = float(input(\"Nhập số a = \"))\n",
    "while a <= 0 or a % 1 != 0:\n",
    "    a = float(input(\"Nhập số a = \"))\n",
    "S = 0\n",
    "while a >= 1:\n",
    "    x = a % 10\n",
    "    if x == 2 or x == 3 or x == 5 or x == 7:\n",
    "        S += x\n",
    "    a = a // 10\n",
    "print(S)"
   ]
  },
  {
   "cell_type": "markdown",
   "id": "0a5075a4",
   "metadata": {},
   "source": [
    "### Bài 5\n",
    "\n",
    "Số armstrong là số có tổng của các chữ số mũ số lượng chữ số bằng chính nó\n",
    "\n",
    "Ví dụ\n",
    "\n",
    "Số 371 là một số armstrong vì:\n",
    "\n",
    "371 = 3^3 + 7^3 + 1^3 (3 là số lượng chữ số của 371)\n",
    "\n",
    "Số 1634 là một số armstrong vì:\n",
    "\n",
    "1634 = 1^4 + 6^4 + 3^4 + 4^4 (4 là số lượng chữ số của 1634)\n",
    "\n",
    "Nhập vào số a, kiểm tra xem a có phải là số armstrong không"
   ]
  },
  {
   "cell_type": "code",
   "execution_count": 37,
   "id": "b9ed54a5",
   "metadata": {},
   "outputs": [
    {
     "name": "stdout",
     "output_type": "stream",
     "text": [
      "124\n",
      "124 Không là số amstrong\n"
     ]
    }
   ],
   "source": [
    "a = int(input())\n",
    "b = str(a)\n",
    "c = a\n",
    "sum = 0\n",
    "while a > 0:\n",
    "    k = a % 10\n",
    "    sum += k**len(b)\n",
    "    a //= 10\n",
    "if(sum == c):\n",
    "    print(c, \"là số là số amstrong\")\n",
    "else:\n",
    "    print(c, \"Không là số amstrong\")"
   ]
  },
  {
   "cell_type": "markdown",
   "id": "f8a584d3",
   "metadata": {},
   "source": [
    "### Bài 6\n",
    "\n",
    "Dãy số fibonacci là dãy số được định nghĩa như sau: 1, 1, 2, 3, 5, 8, 13,... với số kế tiếp sẽ bằng tổng hai số trước đó\n",
    "\n",
    "Nhập vào A, hãy tìm số trong dãy số fibonacci lớn nhất nhưng không vượt quá A"
   ]
  },
  {
   "cell_type": "code",
   "execution_count": 3,
   "id": "6dd1891c",
   "metadata": {},
   "outputs": [
    {
     "name": "stdout",
     "output_type": "stream",
     "text": [
      "nhap a:14\n",
      "13\n"
     ]
    }
   ],
   "source": [
    "a = float(input(\"nhap a:\"))\n",
    "while (a < 0 or a % 1 != 0):\n",
    "    a = float(input(\"nhap lai a:\"))\n",
    "\n",
    "x = 1\n",
    "y = 1\n",
    "while y <= a:\n",
    "    S = x + y\n",
    "    x = y\n",
    "    y = S\n",
    "print(x)"
   ]
  },
  {
   "cell_type": "code",
   "execution_count": 4,
   "id": "cc926858",
   "metadata": {},
   "outputs": [
    {
     "name": "stdout",
     "output_type": "stream",
     "text": [
      "nhap a:9\n",
      "So fibonaci can tim: 8\n"
     ]
    }
   ],
   "source": [
    "A = float(input(\"nhap a:\"))\n",
    "while (a < 0 or a % 1 != 0):\n",
    "    A = float(input(\"nhap lai a:\"))\n",
    "\n",
    "a = b = 1\n",
    "c = a + b\n",
    "while True:\n",
    "    a = b\n",
    "    b = c\n",
    "    c = a + b\n",
    "    if c > A:\n",
    "        break\n",
    "print(\"So fibonaci can tim:\",b)\n"
   ]
  },
  {
   "cell_type": "markdown",
   "id": "9fa794f2",
   "metadata": {},
   "source": [
    "### Bài 7\n",
    "\n",
    "Nhập vào A, tìm n nhỏ nhất sao cho\n",
    "\n",
    "1 + 1/2 + 1/3 + 1/4 + ... + 1/n > A"
   ]
  },
  {
   "cell_type": "code",
   "execution_count": 8,
   "id": "246ec002",
   "metadata": {},
   "outputs": [
    {
     "name": "stdout",
     "output_type": "stream",
     "text": [
      "nhap A:1.5\n",
      "1.8333333333333333\n",
      "n cần tìm là: 3\n"
     ]
    }
   ],
   "source": [
    "A = float(input(\"nhap A:\"))\n",
    "n = 1\n",
    "S = 0\n",
    "while S <= A:\n",
    "    S += 1/n\n",
    "    n += 1\n",
    "print(S)\n",
    "print(\"n cần tìm là:\",n-1)"
   ]
  },
  {
   "cell_type": "markdown",
   "id": "c5fd4d8a",
   "metadata": {},
   "source": [
    "### Bài 8\n",
    "\n",
    "Nhập vào a và b là số nguyên dương (b có một chữ số, nhập sai yêu cầu nhập lại), hãy tìm vị trí đầu tiên (bắt đầu từ bên trái) của b trong a, nếu không tìm thấy thì in kết quả là 0 (ví trí đầu bắt đầu từ 1)\n",
    "\n",
    "<b>Ví dụ:</b>\n",
    "\n",
    "<b>Nhập:</b>\n",
    "- a = 125785\n",
    "- b = 5\n",
    "\n",
    "<b>Kết quả:</b> 3 (do số 5 nằm ở vị trí 3)"
   ]
  },
  {
   "cell_type": "code",
   "execution_count": 9,
   "id": "9edf35ac",
   "metadata": {},
   "outputs": [
    {
     "name": "stdout",
     "output_type": "stream",
     "text": [
      "nhap a:125785\n",
      "nhap b:5\n",
      "Vi tri cua b trong a: 3\n"
     ]
    }
   ],
   "source": [
    "a = int(input(\"nhap a:\"))\n",
    "b = int(input(\"nhap b:\"))\n",
    "if (b <= 0 or b > 9):\n",
    "    print(\"nhap lai b:\")\n",
    "    b = int(input())\n",
    "a = str(a)\n",
    "b = str(b)\n",
    "k = 0\n",
    "while k < len(a):\n",
    "    x = a.find(b) \n",
    "    if (x >= 0):\n",
    "        print(\"Vi tri cua b trong a:\",x+1)\n",
    "        break\n",
    "    else:\n",
    "        print(\"0\")\n",
    "    k += 1    "
   ]
  }
 ],
 "metadata": {
  "kernelspec": {
   "display_name": "Python 3 (ipykernel)",
   "language": "python",
   "name": "python3"
  },
  "language_info": {
   "codemirror_mode": {
    "name": "ipython",
    "version": 3
   },
   "file_extension": ".py",
   "mimetype": "text/x-python",
   "name": "python",
   "nbconvert_exporter": "python",
   "pygments_lexer": "ipython3",
   "version": "3.10.4"
  }
 },
 "nbformat": 4,
 "nbformat_minor": 5
}
