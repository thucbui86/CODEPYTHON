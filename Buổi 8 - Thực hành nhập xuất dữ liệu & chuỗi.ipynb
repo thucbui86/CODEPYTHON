{
 "cells": [
  {
   "cell_type": "markdown",
   "id": "5bc93fb0",
   "metadata": {},
   "source": [
    "# Thực hành nhập xuất dữ liệu & chuỗi\n",
    "\n",
    "### Bài tập tra cứu lệnh\n",
    "\n",
    "Nhập vào một chuỗi, kiểm tra xem chuỗi đó có ký tự nào là chữ in hoa hay không, nếu có thì in True, không có thì in False"
   ]
  },
  {
   "cell_type": "code",
   "execution_count": 4,
   "id": "48a46290",
   "metadata": {},
   "outputs": [
    {
     "name": "stdout",
     "output_type": "stream",
     "text": [
      "nhap chuoi:lap Trinh\n",
      "True\n"
     ]
    }
   ],
   "source": [
    "chuoi = input(\"nhap chuoi:\")\n",
    "ketqua = not chuoi.islower() and not chuoi.isdigit()\n",
    "print(ketqua)"
   ]
  },
  {
   "cell_type": "markdown",
   "id": "e14eae7c",
   "metadata": {},
   "source": [
    "Nhập vào một chuỗi, kiểm tra xem chuỗi đó có ký tự nào là chữ in thường hay không, nếu có thì in True, không có thì in False"
   ]
  },
  {
   "cell_type": "code",
   "execution_count": 5,
   "id": "d01d53b1",
   "metadata": {},
   "outputs": [
    {
     "name": "stdout",
     "output_type": "stream",
     "text": [
      "nhap chuoi:Chao ban Thuc\n",
      "True\n"
     ]
    }
   ],
   "source": [
    "chuoi = input(\"nhap chuoi:\")\n",
    "ketqua = not chuoi.isupper() and not chuoi.isdigit()\n",
    "print(ketqua)"
   ]
  },
  {
   "cell_type": "markdown",
   "id": "eab86ecf",
   "metadata": {},
   "source": [
    "Nhập vào một chuỗi a và chuỗi b, tìm vị trí đầu tiên xuất hiện chuỗi b trong chuỗi a"
   ]
  },
  {
   "cell_type": "code",
   "execution_count": 12,
   "id": "051eb4af",
   "metadata": {},
   "outputs": [
    {
     "name": "stdout",
     "output_type": "stream",
     "text": [
      "nhap chuoi:lap trinh python\n",
      "lap trinh python\n",
      "nhap chuoi:python\n",
      "python\n",
      "10\n"
     ]
    }
   ],
   "source": [
    "a = input(\"nhap chuoi:\")\n",
    "print(a)\n",
    "b = input(\"nhap chuoi:\")\n",
    "print(b)\n",
    "print(a.find(b))"
   ]
  },
  {
   "cell_type": "markdown",
   "id": "9239bc4e",
   "metadata": {},
   "source": [
    "Nhập vào một chuỗi a, hãy xóa từ đầu tiên trong chuỗi a, rồi in ra màn hình"
   ]
  },
  {
   "cell_type": "code",
   "execution_count": 1,
   "id": "d38c3389",
   "metadata": {},
   "outputs": [
    {
     "name": "stdout",
     "output_type": "stream",
     "text": [
      "nhap chuoi:\n",
      "  @media print {\n",
      "    .ms-editor-squiggles-container {\n",
      "      display:none !important;\n",
      "    }\n",
      "  }\n",
      "  .ms-editor-squiggles-container {\n",
      "    all: initial;\n",
      "  }xin chao moi nguoi\n",
      "chao moi nguoi\n"
     ]
    }
   ],
   "source": [
    "a = input(\"nhap chuoi:\")\n",
    "a = a.strip()\n",
    "b = a.find(\" \")\n",
    "c = a[b+1:]\n",
    "print(c)"
   ]
  },
  {
   "cell_type": "markdown",
   "id": "05b74fb4",
   "metadata": {},
   "source": [
    "### Bài 1\n",
    "\n",
    "Nhập vào một chuỗi, đếm xem có bao nhiêu từ trong chuỗi kết thúc bằng chữ n"
   ]
  },
  {
   "cell_type": "code",
   "execution_count": 23,
   "id": "d126675c",
   "metadata": {},
   "outputs": [
    {
     "name": "stdout",
     "output_type": "stream",
     "text": [
      "nhap chuoi:anh ban toi rat may man\n",
      "anh ban toi rat may man\n",
      "['anh', 'ban', 'toi', 'rat', 'may', 'man']\n",
      "2\n"
     ]
    }
   ],
   "source": [
    "a = input(\"nhap chuoi:\")\n",
    "x = a.split()\n",
    "print(a)\n",
    "print(x)\n",
    "count = 0\n",
    "for i in x:\n",
    "    if(i[-1] == 'n'):\n",
    "        count += 1\n",
    "print(count)"
   ]
  },
  {
   "cell_type": "code",
   "execution_count": 1,
   "id": "f0454507",
   "metadata": {},
   "outputs": [
    {
     "name": "stdout",
     "output_type": "stream",
     "text": [
      "nhap chuoian ban minh\n",
      "2\n"
     ]
    }
   ],
   "source": [
    "chuoi = input(\"nhap chuoi\")\n",
    "chuoi += \" \"\n",
    "sotu = chuoi.count(\"n \") + chuoi.count(\"n,\") + chuoi.count(\"n.\")\n",
    "print(sotu)"
   ]
  },
  {
   "cell_type": "markdown",
   "id": "53a78d35",
   "metadata": {},
   "source": [
    "### Bài 2\n",
    "\n",
    "Nhập vào một chuỗi, kiểm tra xem chuỗi đó có ký tự hoa hoặc ký tự thường hay không."
   ]
  },
  {
   "cell_type": "code",
   "execution_count": 21,
   "id": "f5be8c39",
   "metadata": {
    "scrolled": true
   },
   "outputs": [
    {
     "name": "stdout",
     "output_type": "stream",
     "text": [
      "Nhập vào một chuỗi:dfd34\n",
      "True\n"
     ]
    }
   ],
   "source": [
    "chuoi = input(\"Nhập vào một chuỗi:\")\n",
    "chuoi = chuoi.upper()\n",
    "print(chuoi.isupper())"
   ]
  },
  {
   "cell_type": "code",
   "execution_count": 19,
   "id": "c91b4ff0",
   "metadata": {},
   "outputs": [
    {
     "name": "stdout",
     "output_type": "stream",
     "text": [
      "nhap chuoi:dfdf45656\n",
      "True\n"
     ]
    }
   ],
   "source": [
    "chuoi = input(\"nhap chuoi:\")\n",
    "k = 0\n",
    "count = 0\n",
    "for i in range(len(chuoi)):\n",
    "    if chuoi[k].isalpha():\n",
    "        count += 1\n",
    "    k += 1\n",
    "print(count >=1)"
   ]
  },
  {
   "cell_type": "markdown",
   "id": "64ca662e",
   "metadata": {},
   "source": [
    "### Bài 3\n",
    "\n",
    "Nhập vào một chuỗi, kiểm tra tính đối xứng của chuỗi đó"
   ]
  },
  {
   "cell_type": "code",
   "execution_count": 2,
   "id": "deab903c",
   "metadata": {},
   "outputs": [
    {
     "name": "stdout",
     "output_type": "stream",
     "text": [
      "nhap chuoi:abdcecdba\n",
      "a la chuoi doi xung\n"
     ]
    }
   ],
   "source": [
    "a = input(\"nhap chuoi:\")\n",
    "if(a[::-1]==a):\n",
    "    print(\"a la chuoi doi xung\")\n",
    "else:\n",
    "    print(\"a la chuoi khong doi xung\")"
   ]
  },
  {
   "cell_type": "code",
   "execution_count": 28,
   "id": "33e085d3",
   "metadata": {},
   "outputs": [
    {
     "name": "stdout",
     "output_type": "stream",
     "text": [
      "nhap chuoi123454321\n",
      "True\n"
     ]
    }
   ],
   "source": [
    "chuoi = input(\"nhap chuoi\")\n",
    "k = 0\n",
    "h = -1\n",
    "count = 0\n",
    "for i in range(len(chuoi)//2):\n",
    "    sosanh = chuoi[h] == chuoi[k]\n",
    "    count += sosanh # true la 1, false la 0\n",
    "    h += 1\n",
    "    k -= 1\n",
    "print(count == len(chuoi)//2)"
   ]
  },
  {
   "cell_type": "markdown",
   "id": "85dd8fef",
   "metadata": {},
   "source": [
    "### Bài 4\n",
    "\n",
    "Nhập vào một chuỗi, in ra các ký tự trong chuỗi và nếu là ký tự hoa thì in kèm True, ký tự thường thì in kèm False"
   ]
  },
  {
   "cell_type": "code",
   "execution_count": 5,
   "id": "0d099247",
   "metadata": {},
   "outputs": [
    {
     "name": "stdout",
     "output_type": "stream",
     "text": [
      "nhap chuoi:\n",
      "  @media print {\n",
      "    .ms-editor-squiggles-container {\n",
      "      display:none !important;\n",
      "    }\n",
      "  }\n",
      "  .ms-editor-squiggles-container {\n",
      "    all: initial;\n",
      "  }Nhap Vao mot chuoi\n",
      "Nhap Vao mot chuoi\n",
      "N:True\n",
      "h:False\n",
      "a:False\n",
      "p:False\n",
      "V:True\n",
      "a:False\n",
      "o:False\n",
      "m:False\n",
      "o:False\n",
      "t:False\n",
      "c:False\n",
      "h:False\n",
      "u:False\n",
      "o:False\n",
      "i:False\n"
     ]
    }
   ],
   "source": [
    "a = input(\"nhap chuoi:\")\n",
    "print(a)\n",
    "for i in a:\n",
    "    if(i.isupper()==True):\n",
    "        print(i,True, sep = \":\")\n",
    "    elif(i.islower()==True):\n",
    "        print(i,False, sep = \":\")"
   ]
  },
  {
   "cell_type": "markdown",
   "id": "1373dc74",
   "metadata": {},
   "source": [
    "### Bài 5\n",
    "\n",
    "Nhập vào một chuỗi, tìm các ký tự chỉ xuất hiện một lần trong chuỗi (nếu xuất hiện 1 lần in true, xuất hiện nhiều lần in false)\n",
    "\n",
    "Ví dụ:\n",
    "\n",
    "Nhập chuỗi: \"ABAbc\"\n",
    "\n",
    "In:\n",
    "\n",
    "A: False\n",
    "\n",
    "B: True\n",
    "\n",
    "A: False\n",
    "\n",
    "b: True\n",
    "\n",
    "c: True"
   ]
  },
  {
   "cell_type": "code",
   "execution_count": 30,
   "id": "a93bc53d",
   "metadata": {},
   "outputs": [
    {
     "name": "stdout",
     "output_type": "stream",
     "text": [
      "nhap chuoi:anh thuc dep trai\n",
      "anh thuc dep trai\n",
      "a:False\n",
      "n:True\n",
      "h:False\n",
      " :False\n",
      "t:False\n",
      "h:False\n",
      "u:True\n",
      "c:True\n",
      " :False\n",
      "d:True\n",
      "e:True\n",
      "p:True\n",
      " :False\n",
      "t:False\n",
      "r:True\n",
      "a:False\n",
      "i:True\n"
     ]
    }
   ],
   "source": [
    "a = input(\"nhap chuoi:\")\n",
    "print(a)\n",
    "for i in a:\n",
    "    if(a.count(i)>1):\n",
    "        print(i, False, sep = \":\")\n",
    "    elif(a.count(i)==1):\n",
    "        print(i, True, sep = \":\")"
   ]
  },
  {
   "cell_type": "code",
   "execution_count": 3,
   "id": "825301cc",
   "metadata": {},
   "outputs": [
    {
     "name": "stdout",
     "output_type": "stream",
     "text": [
      "nhap chuoi:lap trinh python\n",
      "l: True\n",
      "a: True\n",
      "p: False\n",
      " : False\n",
      "t: False\n",
      "r: True\n",
      "i: True\n",
      "n: False\n",
      "h: False\n",
      " : False\n",
      "p: False\n",
      "y: True\n",
      "t: False\n",
      "h: False\n",
      "o: True\n",
      "n: False\n"
     ]
    }
   ],
   "source": [
    "# cach giai cua thay\n",
    "chuoi = input(\"nhap chuoi:\")\n",
    "k = 0\n",
    "for i in range(len(chuoi)):\n",
    "    print(chuoi[k],chuoi.count(chuoi[k])==1,sep = \": \")\n",
    "    k += 1"
   ]
  },
  {
   "cell_type": "markdown",
   "id": "69bebf4c",
   "metadata": {},
   "source": [
    " Bài 6 \n",
    " Nhập vào một chuỗi, kiểm tra trong chuỗi có con số hay không, nếu có in True, không có in False"
   ]
  },
  {
   "cell_type": "code",
   "execution_count": 8,
   "id": "1b4eab4f",
   "metadata": {},
   "outputs": [
    {
     "name": "stdout",
     "output_type": "stream",
     "text": [
      "nhap chuoi:lap trinh python thang 5\n"
     ]
    },
    {
     "data": {
      "text/plain": [
       "True"
      ]
     },
     "execution_count": 8,
     "metadata": {},
     "output_type": "execute_result"
    }
   ],
   "source": [
    "a = input(\"nhap chuoi:\")\n",
    "def has_numbers(a):\n",
    "    return any(char.isdigit() for char in a)\n",
    "has_numbers(a)"
   ]
  },
  {
   "cell_type": "code",
   "execution_count": 13,
   "id": "2aec8656",
   "metadata": {},
   "outputs": [
    {
     "name": "stdout",
     "output_type": "stream",
     "text": [
      "nhap chuoi:lap trinh python 3 de thoi\n",
      "lap trinh python 3 de thoi\n",
      "True\n"
     ]
    }
   ],
   "source": [
    "a = input(\"nhap chuoi:\")\n",
    "print(a)\n",
    "b = any(char.isdigit() for char in a)\n",
    "print(b)"
   ]
  },
  {
   "cell_type": "code",
   "execution_count": 13,
   "id": "024514c5",
   "metadata": {},
   "outputs": [
    {
     "name": "stdout",
     "output_type": "stream",
     "text": [
      "nhap chuoi:dffdf3\n",
      "False\n"
     ]
    }
   ],
   "source": [
    "# cach giai cua thay\n",
    "chuoi = input(\"nhap chuoi:\")\n",
    "k= 0\n",
    "kt = False\n",
    "for i in range(len(chuoi)):\n",
    "    kt = kt or chuoi[kt].isdigit()\n",
    "    k += 1\n",
    "print(kt)"
   ]
  },
  {
   "cell_type": "markdown",
   "id": "1e51403c",
   "metadata": {},
   "source": [
    "### Bài 7\n",
    "\n",
    "Nhập vào một chuỗi, tách những con số có trong chuỗi ra rồi tính tổng của chúng\n",
    "\n",
    "In tổng lên màn hình"
   ]
  },
  {
   "cell_type": "code",
   "execution_count": 17,
   "id": "a34e349d",
   "metadata": {},
   "outputs": [
    {
     "name": "stdout",
     "output_type": "stream",
     "text": [
      "nhap chuoi:th34\n",
      "th34\n",
      "7\n"
     ]
    }
   ],
   "source": [
    "a = input(\"nhap chuoi:\")\n",
    "print(a)\n",
    "count = 0\n",
    "for i in a:\n",
    "    if(i.isdigit() == True):\n",
    "        count += int(i)\n",
    "print(count)"
   ]
  },
  {
   "cell_type": "code",
   "execution_count": 7,
   "id": "a3e807e1",
   "metadata": {},
   "outputs": [
    {
     "name": "stdout",
     "output_type": "stream",
     "text": [
      "nhap chuoi:dfdfd335\n",
      "0 0\n",
      "1 0\n",
      "2 0\n",
      "3 2\n",
      "4 0\n",
      "5 1\n",
      "6 0\n",
      "7 0\n",
      "8 0\n",
      "9 0\n",
      "11\n"
     ]
    }
   ],
   "source": [
    "#cach giai cua thay\n",
    "chuoi = input(\"nhap chuoi:\")\n",
    "k = 0\n",
    "sum = 0\n",
    "for i in range(10):\n",
    "    solan = chuoi.count(str(k))\n",
    "    print(k,solan)\n",
    "    sum += k*solan\n",
    "    k+=1\n",
    "print(sum)"
   ]
  },
  {
   "cell_type": "markdown",
   "id": "e951779d",
   "metadata": {},
   "source": [
    "### Bài 8\n",
    "\n",
    "Nhập vào một chuỗi, đảo ngược chuỗi đã nhập rồi in ra màn hình"
   ]
  },
  {
   "cell_type": "code",
   "execution_count": 8,
   "id": "da7b65df",
   "metadata": {},
   "outputs": [
    {
     "name": "stdout",
     "output_type": "stream",
     "text": [
      "nhap chuoi:bui\n",
      "iub\n"
     ]
    }
   ],
   "source": [
    "a = input(\"nhap chuoi:\")\n",
    "b = a[::-1]\n",
    "print(b)"
   ]
  },
  {
   "cell_type": "code",
   "execution_count": null,
   "id": "1824a3e0",
   "metadata": {},
   "outputs": [],
   "source": [
    "#cach giai cua thay\n",
    "chuoi = input(\"nhap chuoi:\")\n",
    "chuoi_new = \"\"\n",
    "for i in range(len(chuoi)):\n",
    "    "
   ]
  },
  {
   "cell_type": "code",
   "execution_count": 25,
   "id": "9305f0f1",
   "metadata": {},
   "outputs": [
    {
     "name": "stdout",
     "output_type": "stream",
     "text": [
      "nhap chuoi:bui\n",
      "iub\n"
     ]
    }
   ],
   "source": [
    "a = input(\"nhap chuoi:\")\n",
    "b = reversed(a)\n",
    "print(\"\".join(b))"
   ]
  },
  {
   "cell_type": "markdown",
   "id": "04194b5c",
   "metadata": {},
   "source": [
    "### Bài 9\n",
    "\n",
    "Nhập vào một chuỗi, kiểm tra xem mỗi từ trong chuỗi có được viết hoa chữ cái đầu hay không, nếu tất cả đều được viết hoa thì in ra True, còn không thì in ra False\n",
    "\n",
    "Trong trường hợp là False, hãy viết hoa tất cả các chữ cái đầu của mỗi từ rồi in lên màn hình\n",
    "\n",
    "Cách làm thông thường:"
   ]
  },
  {
   "cell_type": "code",
   "execution_count": 1,
   "id": "9f947c7d",
   "metadata": {},
   "outputs": [
    {
     "name": "stdout",
     "output_type": "stream",
     "text": [
      "Nhập vào chuỗi:xin chao moi Nguoi\n",
      "False\n",
      "Xin Chao Moi Nguoi\n"
     ]
    }
   ],
   "source": [
    "chuoi = input(\"Nhập vào chuỗi:\")\n",
    "kt = chuoi[0].isupper()\n",
    "chuoi = chuoi[0].upper() + chuoi[1:]\n",
    "for i in range(chuoi.count(\" \")):\n",
    "    vt = chuoi.find(\" \")\n",
    "    kt = kt and chuoi[vt+1].isupper()\n",
    "    chuoi = chuoi[:vt] + \"#\" + chuoi[vt+1:]\n",
    "    chuoi = chuoi[:vt+1] + chuoi[vt+1].upper() + chuoi[vt+2:]\n",
    "print(kt)\n",
    "print(chuoi.replace(\"#\",\" \"))"
   ]
  },
  {
   "cell_type": "markdown",
   "id": "f43e32af",
   "metadata": {},
   "source": [
    "Cách sử dụng lệnh có sẵn:"
   ]
  },
  {
   "cell_type": "code",
   "execution_count": 31,
   "id": "714f1412",
   "metadata": {},
   "outputs": [
    {
     "name": "stdout",
     "output_type": "stream",
     "text": [
      "nhap chuoi:bui Xuan thuc\n",
      "False\n",
      "Bui Xuan Thuc\n"
     ]
    }
   ],
   "source": [
    "chuoi = input(\"Nhập vào chuỗi:\")\n",
    "print(chuoi.istitle())\n",
    "print(chuoi.title())"
   ]
  }
 ],
 "metadata": {
  "kernelspec": {
   "display_name": "Python 3 (ipykernel)",
   "language": "python",
   "name": "python3"
  },
  "language_info": {
   "codemirror_mode": {
    "name": "ipython",
    "version": 3
   },
   "file_extension": ".py",
   "mimetype": "text/x-python",
   "name": "python",
   "nbconvert_exporter": "python",
   "pygments_lexer": "ipython3",
   "version": "3.10.4"
  }
 },
 "nbformat": 4,
 "nbformat_minor": 5
}
