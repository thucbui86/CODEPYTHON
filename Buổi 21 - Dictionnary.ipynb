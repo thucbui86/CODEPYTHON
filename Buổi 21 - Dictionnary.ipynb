{
 "cells": [
  {
   "cell_type": "markdown",
   "id": "a20f121d",
   "metadata": {},
   "source": [
    "# Dictionnary\n",
    "\n",
    "Dictionnary là một dạng list đặc biệt, nó khác list ở chỗ không lưu trữ các giá trị theo chỉ số vị trí, thay vào đó Dictionary sẽ lưu trữ các giá trị theo key\n",
    "\n",
    "##### Tài liệu tham khảo: https://www.w3schools.com/python/python_dictionaries.asp\n",
    "\n",
    "### Khai báo một dictionary\n",
    "\n",
    "Cú pháp:\n",
    "\n",
    "`<tên dictionary> = {}`\n",
    "\n",
    "### Dictionary được khai báo bằng hai dấu hoặc nhọn\n",
    "\n",
    "Đây là một dictionary rỗng\n",
    "\n",
    "<b>Ví dụ 1:</b>\n",
    "\n",
    "`a = {}`\n",
    "\n",
    "a là một dictionary rỗng\n",
    "\n",
    "<b>Ví dụ 2:</b>\n",
    "\n",
    "`a = {\"tên\": \"Nguyễn Tâm Điền\", \"tuổi\": 13, \"giới tính\": \"Nam\"}`\n",
    "\n",
    "b là một dictionary có 3 key, mõi key đều có một giá trị riêng biệt\n",
    "\n",
    "Key có thể mang kiểu dữ liệu là chuỗi hoặc số\n",
    "\n",
    "##### Mỗi một key đều phải có giá trị của riêng nó, không thể khai báo key không có giá trị\n",
    "\n",
    "<b>Hãy khai báo một dictionary có 3 phần tử</b>"
   ]
  },
  {
   "cell_type": "code",
   "execution_count": null,
   "id": "d835f461",
   "metadata": {},
   "outputs": [],
   "source": []
  },
  {
   "cell_type": "markdown",
   "id": "be1e321c",
   "metadata": {},
   "source": [
    "### Thêm key vào dictionary\n",
    "\n",
    "Cú pháp:\n",
    "\n",
    "`<tên dictionary>[<key>] = <giá trị>`\n",
    "\n",
    "<b>Ví dụ 1:</b>\n",
    "\n",
    "`a = {}\n",
    "a[\"tên\"] = \"NTD\"`\n",
    "\n",
    "a là một dictionary có một phần tử, phần tử đó có key là \"tên\" và giá trị của key đó là \"NTD\"\n",
    "\n",
    "##### Lưu ý, nếu trong trường hợp đã tồn tại key trong dictionary, dùng lệnh trên sẽ thay đổi giá trị key đó (không phải thêm key khác vào)\n",
    "\n",
    "<b>Ví dụ 2:</b>\n",
    "\n",
    "`a = {}\n",
    "a[\"tên\"] = \"NTD\"\n",
    "a[\"tên\"] = \"Nguyễn Tâm Điền\"`\n",
    "\n",
    "a vẫn là một dictionary có một phần tử, phần tử đó có key là \"tên\" và giá trị của key đó là \"Nguyễn Tâm Điền\"\n",
    "\n",
    "<b>Hãy khai báo một dictionary không có phần tử nào, sau đó thêm một phần tử vào dictionary đó</b>"
   ]
  },
  {
   "cell_type": "code",
   "execution_count": null,
   "id": "7573ebef",
   "metadata": {},
   "outputs": [],
   "source": []
  },
  {
   "cell_type": "markdown",
   "id": "65c98825",
   "metadata": {},
   "source": [
    "### Truy xuất phần tử trong dictionary\n",
    "\n",
    "Cú pháp:\n",
    "\n",
    "`<tên dictionary>[<key>]`\n",
    "\n",
    "<b>Ví dụ:</b>\n",
    "\n",
    "`a = {\"tên\": \"Nguyễn Tâm Điền\", \"tuổi\": 13, \"giới tính\": \"Nam\"}\n",
    "print(a[\"tên\"])`\n",
    "\n",
    "Màn hình sẽ in: Nguyễn Tâm Điền\n",
    "\n",
    "<b>Hãy khai báo một dictionary rồi in ra màn hình một phần tử bất kỳ trong dictionary đó</b>"
   ]
  },
  {
   "cell_type": "code",
   "execution_count": null,
   "id": "f6159385",
   "metadata": {},
   "outputs": [],
   "source": []
  },
  {
   "cell_type": "markdown",
   "id": "afa92f87",
   "metadata": {},
   "source": [
    "### Sao chép dictionary\n",
    "\n",
    "##### Việc sao chép dictionary được thực hiện hệt như sao chép list, chúng ta cần phải sử dụng lệnh copy()"
   ]
  },
  {
   "cell_type": "markdown",
   "id": "ef7e800d",
   "metadata": {},
   "source": [
    "### Duyệt dictionary bằng lệnh for\n",
    "\n",
    "Cú pháp:\n",
    "\n",
    "`for <tên biến> in <tên dictionary>:`\n",
    "\n",
    "Biến sẽ có giá trị là từng key trong dictionary\n",
    "\n",
    "<b>Ví dụ:</b>\n",
    "\n",
    "`a = {\"tên\": \"Nguyễn Tâm Điền\", \"tuổi\": 13, \"giới tính\": \"Nam\"}\n",
    "for i in a:\n",
    "    print(i)`\n",
    "    \n",
    "Màn hình sẽ in ra:\n",
    "\n",
    "tên\n",
    "\n",
    "tuổi\n",
    "\n",
    "giới tính\n",
    "\n",
    "<b>Hãy khai báo một dictionary rồi in ra màn hình toàn bộ giá trị trong dictionary đó</b>"
   ]
  },
  {
   "cell_type": "code",
   "execution_count": 3,
   "id": "3bdd1508",
   "metadata": {},
   "outputs": [
    {
     "name": "stdout",
     "output_type": "stream",
     "text": [
      "xin chao,hello\n",
      "{1: 'xin chao', '2': 'hello'}\n"
     ]
    }
   ],
   "source": [
    "a = {1: \"hi\", \"2\": \"hello\", 1 : \"xin chao\"}\n",
    "print(a[1], a[\"2\"], sep = \",\")\n",
    "print(a)"
   ]
  },
  {
   "cell_type": "code",
   "execution_count": 1,
   "id": "47fd0b9f",
   "metadata": {},
   "outputs": [
    {
     "name": "stdout",
     "output_type": "stream",
     "text": [
      "nhap key:1\n",
      "nhap value:thuc\n",
      "nhap key:2\n",
      "nhap value:bui\n",
      "nhap key:3\n",
      "nhap value:xuan\n",
      "nhap key:-1\n",
      "{'1': 'thuc', '2': 'bui', '3': 'xuan'}\n"
     ]
    }
   ],
   "source": [
    "### Khởi tạo dictionary D rỗng\n",
    "### yêu cầu người dùng nhập vào key, sau đó nhập vào giá trị (sau khi nhập thì thêm key và giá trị vào trong dictionary D)\n",
    "### đến khi nào người dùng nhập key là - 1 thì dừng lại\n",
    "### nếu người dùng nhập trùng key thì không yêu cầu nhập giá trị mà hiện ra thông báo là key đã tồn tại và yêu cầu người\n",
    "### dùng nhập lại key khác\n",
    "d = dict()\n",
    "while True:\n",
    "    key = input(\"nhap key:\")\n",
    "    if key in d:\n",
    "        continue\n",
    "    if key == '-1':\n",
    "        break\n",
    "    value = input(\"nhap value:\")\n",
    "    d[key] = value\n",
    "print(d)"
   ]
  },
  {
   "cell_type": "markdown",
   "id": "1982f4b1",
   "metadata": {},
   "source": [
    "### Bài tập"
   ]
  },
  {
   "cell_type": "markdown",
   "id": "3060a950",
   "metadata": {},
   "source": [
    "Viết chương trình đếm số lần xuất hiện của một từ trong một văn bản nhất định"
   ]
  },
  {
   "cell_type": "code",
   "execution_count": 11,
   "id": "af64832c",
   "metadata": {},
   "outputs": [
    {
     "name": "stdout",
     "output_type": "stream",
     "text": [
      "{'a': 3, 'anh': 1, 'tràng': 1, 'đã': 3, 'về': 2, 'chúng': 2, 'mày': 1, 'ơi': 3, 'bế': 2, 'em': 1, 'mấy': 1, 'uống': 1, 'rượu': 1, 'chưa': 1, 'ơiđứa': 1, 'túm': 2, 'đằng': 3, 'trước': 2, 'đứa': 5, 'sau': 1, 'cù': 1, 'kéo': 1, 'lôi': 1, 'chân': 1, 'không': 1, 'cho': 1, 'đi': 4, 'chỉ': 1, 'ngửa': 1, 'mặt': 1, 'lên': 4, 'cười': 1, 'hềnh': 1, 'hệchcái': 1, 'xóm': 2, 'ngụ': 1, 'cư': 1, 'tồi': 1, 'tàn': 1, 'ấy': 1, 'mỗi': 1, 'chiều': 2, 'lại': 1, 'xôn': 1, 'xao': 1, 'được': 1, 'một': 3, 'lúcnhưng': 1, 'độ': 1, 'này': 2, 'thì': 1, 'trẻ': 1, 'con': 1, 'nào': 3, 'buồn': 2, 'ra': 1, 'đón': 1, 'nữa': 1, 'nó': 1, 'ngồi': 1, 'ủ': 1, 'rũ': 1, 'dưới': 1, 'những': 3, 'xó': 1, 'đường': 2, 'nhúc': 1, 'nhích': 1, 'trong': 3, 'bóng': 2, 'nhá': 1, 'nhem': 1, 'từng': 1, 'bước': 1, 'mệt': 1, 'mỏi': 1, 'chiếc': 1, 'áo': 1, 'nâu': 1, 'tàng': 1, 'vắt': 1, 'sang': 1, 'bên': 2, 'cánh': 1, 'tay': 1, 'cái': 3, 'đầu': 1, 'trọc': 1, 'nhẵn': 1, 'chúi': 1, 'hình': 1, 'như': 4, 'lo': 1, 'lắng': 1, 'chật': 1, 'vật': 1, 'ngày': 1, 'đè': 1, 'xuống': 1, 'lưng': 2, 'to': 1, 'rộng': 1, 'gấu': 1, 'của': 3, 'hắncái': 1, 'đói': 1, 'tràn': 1, 'đến': 1, 'tự': 1, 'lúc': 1, 'gia': 1, 'đình': 1, 'từ': 1, 'vùng': 1, 'nam': 1, 'định': 1, 'thái': 1, 'bình': 1, 'đội': 1, 'chiếu': 1, 'lũ': 1, 'lượt': 1, 'bồng': 1, 'dắt': 1, 'díu': 1, 'nhau': 1, 'xanh': 1, 'xám': 1, 'ma': 1, 'và': 2, 'nằm': 2, 'ngổn': 1, 'ngang': 1, 'khắp': 1, 'lều': 1, 'chợ': 2, 'người': 3, 'chết': 1, 'ngả': 1, 'rạ': 1, 'buổi': 1, 'sáng': 1, 'làng': 1, 'làm': 1, 'đồng': 1, 'gặp': 1, 'ba': 1, 'bốn': 1, 'thây': 1, 'còng': 1, 'queo': 1, 'khí': 1, 'vẩn': 1, 'mùi': 2, 'ẩm': 1, 'thối': 1, 'rác': 1, 'rưởi': 1, 'gây': 1, 'xác': 1}\n"
     ]
    }
   ],
   "source": [
    "vanban = \"- A a a... Anh Tràng! Anh Tràng đã về chúng mày ơi!- Anh Tràng ơi bế em mấy...- Anh Tràng ơi đã uống rượu chưa?- Anh Tràng ơi!...Đứa túm đằng trước, đứa túm đằng sau, đứa cù, đứa kéo, đứa lôi chân không cho đi. Tràng chỉ ngửa mặt lên cười hềnh hệch.Cái xóm ngụ cư tồi tàn ấy mỗi chiều lại xôn xao lên được một lúc.Nhưng độ này thì trẻ con không đứa nào buồn ra đón Tràng nữa, chúng nó ngồi ủ rũ dưới những xó đường không buồn nhúc nhích. Trong bóng chiều nhá nhem, Tràng đi từng bước mệt mỏi, chiếc áo nâu tàng vắt sang một bên cánh tay, cái đầu trọc nhẵn chúi về đằng trước. Hình như những lo lắng, chật vật trong một ngày đè xuống cái lưng to rộng như lưng gấu của hắn.Cái đói đã tràn đến xóm này tự lúc nào. Những gia đình từ những vùng Nam Định, Thái Bình, đội chiếu lũ lượt bồng bế, dắt díu nhau lên xanh xám như những bóng ma, và nằm ngổn ngang khắp lều chợ. Người chết như ngả rạ. Không buổi sáng nào người trong làng đi chợ, đi làm đồng không gặp ba bốn cái thây nằm còng queo bên đường. Không khí vẩn lên mùi ẩm thối của rác rưởi và mùi gây của xác người.\"\n",
    "# xoa dau cau\n",
    "vanban = vanban.replace(\"!\", \"\")\n",
    "vanban = vanban.replace(\".\", \"\")\n",
    "vanban = vanban.replace(\",\", \"\")\n",
    "vanban = vanban.replace(\"-\", \"\")\n",
    "vanban = vanban.replace(\"?\", \"\")\n",
    "# cat chuoi van ban thanh dang list\n",
    "vanban = vanban.split()\n",
    "# key la tu, gia tri la so luong tu\n",
    "d = {}\n",
    "for word in vanban:\n",
    "    if word not in d:\n",
    "        word = word.lower() # viet thuong tat ca\n",
    "        d[word] = 1\n",
    "    else:\n",
    "        d[word] += 1\n",
    "\n",
    "print(d)"
   ]
  },
  {
   "cell_type": "code",
   "execution_count": 4,
   "id": "e76f56d9",
   "metadata": {},
   "outputs": [
    {
     "name": "stdout",
     "output_type": "stream",
     "text": [
      "{'b': 1, 'r': 2, 'o': 2, 'n': 1, 't': 1, 's': 2, 'a': 1, 'u': 2}\n"
     ]
    }
   ],
   "source": [
    "word = 'brontosaurus'\n",
    "d = dict()\n",
    "for c in word:\n",
    "    if c not in d:\n",
    "        d[c] = 1\n",
    "    else:\n",
    "        d[c] = d[c] + 1\n",
    "print(d)"
   ]
  },
  {
   "cell_type": "markdown",
   "id": "57c6f1e7",
   "metadata": {},
   "source": [
    "Viết chương trình cho phép người dùng quản lý sản phẩm, gồm các chức năng sau: \n",
    "\n",
    "- Hiển thị danh sách sản phẩm\n",
    "- Thêm sản phẩm mới vào danh sách\n",
    "- Sửa tên của sản phẩm trong danh sách\n",
    "- Xoá một sản phẩm khỏi danh sách"
   ]
  },
  {
   "cell_type": "code",
   "execution_count": 14,
   "id": "8541b8c3",
   "metadata": {},
   "outputs": [
    {
     "name": "stdout",
     "output_type": "stream",
     "text": [
      "mouse\n",
      "1\n",
      "{'laptop': 3, 'iphone': 1, 'mouse': '1'}\n"
     ]
    }
   ],
   "source": [
    "\n",
    "sanpham = {'laptop' : 3, 'iphone': 1}\n",
    "key = input()\n",
    "value = input()\n",
    "\n",
    "def themsp(sanpham):\n",
    "    sanpham[key] = value\n",
    "    return sanpham\n",
    "\n",
    "def showsp(sanpham):\n",
    "    print()\n",
    "print(sanpham)"
   ]
  }
 ],
 "metadata": {
  "kernelspec": {
   "display_name": "Python 3 (ipykernel)",
   "language": "python",
   "name": "python3"
  },
  "language_info": {
   "codemirror_mode": {
    "name": "ipython",
    "version": 3
   },
   "file_extension": ".py",
   "mimetype": "text/x-python",
   "name": "python",
   "nbconvert_exporter": "python",
   "pygments_lexer": "ipython3",
   "version": "3.10.4"
  }
 },
 "nbformat": 4,
 "nbformat_minor": 5
}
